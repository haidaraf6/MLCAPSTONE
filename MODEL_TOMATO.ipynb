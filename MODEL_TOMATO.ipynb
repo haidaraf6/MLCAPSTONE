{
  "cells": [
    {
      "cell_type": "markdown",
      "metadata": {
        "id": "view-in-github",
        "colab_type": "text"
      },
      "source": [
        "<a href=\"https://colab.research.google.com/github/haidaraf6/MLCAPSTONE/blob/main/MODEL_TOMATO.ipynb\" target=\"_parent\"><img src=\"https://colab.research.google.com/assets/colab-badge.svg\" alt=\"Open In Colab\"/></a>"
      ]
    },
    {
      "cell_type": "code",
      "execution_count": null,
      "metadata": {
        "id": "JM3xIcAF03ov"
      },
      "outputs": [],
      "source": [
        "import tensorflow as tf\n",
        "import os\n",
        "import zipfile\n",
        "import tensorflow_datasets as tfds\n"
      ]
    },
    {
      "cell_type": "markdown",
      "metadata": {
        "id": "YCWi3WGzLRRw"
      },
      "source": [
        "# Prepare the Dataset"
      ]
    },
    {
      "cell_type": "code",
      "execution_count": null,
      "metadata": {
        "colab": {
          "base_uri": "https://localhost:8080/"
        },
        "id": "QDRqvUYUEzFw",
        "outputId": "90bdf794-2c24-4909-e34f-60fca7aab517"
      },
      "outputs": [
        {
          "output_type": "stream",
          "name": "stdout",
          "text": [
            "Mounted at /content/drive\n"
          ]
        }
      ],
      "source": [
        "from google.colab import drive\n",
        "drive.mount('/content/drive')"
      ]
    },
    {
      "cell_type": "code",
      "execution_count": null,
      "metadata": {
        "id": "wKjOisC_E4cG"
      },
      "outputs": [],
      "source": [
        "!unzip '/content/drive/MyDrive/Colab/dataset.zip'"
      ]
    },
    {
      "cell_type": "code",
      "execution_count": null,
      "metadata": {
        "id": "v9MsKDHn3Wxb"
      },
      "outputs": [],
      "source": [
        "!unrar x -Y \"/content/drive/MyDrive/Colab/Rice Dataset.rar\" \"/content/dataset/\""
      ]
    },
    {
      "cell_type": "code",
      "execution_count": null,
      "metadata": {
        "id": "azikHpwN3vZY"
      },
      "outputs": [],
      "source": [
        "import zipfile\n",
        "\n",
        "file_dataset = '/content/drive/MyDrive/ModelML /Tomato/dataset_tomato.zip'\n",
        "zipdata = zipfile.ZipFile(file_dataset, 'r')\n",
        "zipdata.extractall('dataset')\n",
        "zipdata.close()\n"
      ]
    },
    {
      "cell_type": "markdown",
      "metadata": {
        "id": "6K3ImY-XLJ3K"
      },
      "source": [
        "# Model Build"
      ]
    },
    {
      "cell_type": "code",
      "source": [
        "import tensorflow as tf\n",
        "from tensorflow.keras.layers import Conv2D, Dense, PReLU, MaxPooling2D, Flatten, Dropout, BatchNormalization\n",
        "from tensorflow.keras.models import Sequential\n",
        "from tensorflow.keras.optimizers import Adam\n",
        "\n",
        "model = Sequential()\n",
        "model.add(Conv2D(64, (3, 3), activation='relu', input_shape=(200, 200, 3)))\n",
        "model.add(MaxPooling2D(2, 2))\n",
        "model.add(Conv2D(128, (3, 3), activation='relu'))\n",
        "model.add(MaxPooling2D(2, 2))\n",
        "model.add(Conv2D(256, (3, 3), activation='relu'))\n",
        "model.add(MaxPooling2D(2, 2))\n",
        "model.add(Flatten())\n",
        "model.add(Dense(128, activation='relu'))\n",
        "model.add(Dropout(0.5))\n",
        "model.add(Dense(64, activation='relu'))\n",
        "model.add(Dense(32, activation='relu'))\n",
        "model.add(LSTM(50, return_sequence=False))\n",
        "model.add(Dense(11, activation='softmax'))\n",
        "\n",
        "model.summary()\n"
      ],
      "metadata": {
        "id": "P3b4QYMGbTAk"
      },
      "execution_count": null,
      "outputs": []
    },
    {
      "cell_type": "code",
      "execution_count": null,
      "metadata": {
        "id": "FhkN92sW4DPY"
      },
      "outputs": [],
      "source": [
        "optimizer = tf.keras.optimizers.Adam(learning_rate=0.001)\n",
        "model.compile(optimizer=optimizer, loss='categorical_crossentropy', metrics=['accuracy'])"
      ]
    },
    {
      "cell_type": "markdown",
      "metadata": {
        "id": "f_6s9iSpK25x"
      },
      "source": [
        "# Data Augmentation\n",
        "*The settings can be changed later*\n"
      ]
    },
    {
      "cell_type": "code",
      "execution_count": null,
      "metadata": {
        "colab": {
          "base_uri": "https://localhost:8080/"
        },
        "id": "MTOZUZHeK2d0",
        "outputId": "f7155da6-73ef-4f3c-ce8a-5f1fc82f606d"
      },
      "outputs": [
        {
          "output_type": "stream",
          "name": "stdout",
          "text": [
            "Found 25847 images belonging to 11 classes.\n",
            "Found 6683 images belonging to 11 classes.\n"
          ]
        }
      ],
      "source": [
        "from keras.preprocessing.image import ImageDataGenerator\n",
        "\n",
        "TRAINING_DIR = '/content/dataset/dataset_tomato/Train'\n",
        "training_datagen = ImageDataGenerator(\n",
        "    rescale=1./255,\n",
        "    rotation_range=40,\n",
        "    width_shift_range=0.2,\n",
        "    height_shift_range=0.2,\n",
        "    shear_range=0.2,\n",
        "    zoom_range=0.2,\n",
        "    horizontal_flip=True,\n",
        "    fill_mode='nearest'\n",
        ")\n",
        "\n",
        "VALIDATION_DIR = '/content/dataset/dataset_tomato/Val'\n",
        "validation_datagen = ImageDataGenerator(rescale=1./255)\n",
        "\n",
        "train_generator = training_datagen.flow_from_directory(\n",
        "    TRAINING_DIR,\n",
        "    target_size=(200, 200),\n",
        "    class_mode='categorical',\n",
        "    batch_size=32\n",
        ")\n",
        "\n",
        "validation_generator = validation_datagen.flow_from_directory(\n",
        "    VALIDATION_DIR,\n",
        "    target_size=(200, 200),\n",
        "    class_mode='categorical',\n",
        "    batch_size=32\n",
        ")\n"
      ]
    },
    {
      "cell_type": "code",
      "execution_count": null,
      "metadata": {
        "id": "r1AFQSmok_Cf"
      },
      "outputs": [],
      "source": []
    },
    {
      "cell_type": "code",
      "execution_count": null,
      "metadata": {
        "id": "LLh_jLPfEgRU"
      },
      "outputs": [],
      "source": [
        "from google.colab import files\n",
        "\n",
        "model.save('model.h5')\n",
        "files.download('model.h5')"
      ]
    },
    {
      "cell_type": "code",
      "execution_count": null,
      "metadata": {
        "id": "XVjBIfKWoyKM"
      },
      "outputs": [],
      "source": [
        "model_h5 = '/content/drive/MyDrive/Colab/Model/my_model_rice_new.h5'\n",
        "model=tf.keras.models.load_model(model_h5)"
      ]
    },
    {
      "cell_type": "code",
      "execution_count": null,
      "metadata": {
        "id": "RjDln84wBzmB"
      },
      "outputs": [],
      "source": [
        "from tensorflow.keras.callbacks import ModelCheckpoint\n",
        "\n",
        "checkpoint=ModelCheckpoint(\"model.h5\",\n",
        "                           monitor='val_accuracy',\n",
        "                           verbose=1,\n",
        "                           save_base_only=True,\n",
        "                           mode='max')\n"
      ]
    },
    {
      "cell_type": "code",
      "execution_count": null,
      "metadata": {
        "id": "amEuhffwccgp"
      },
      "outputs": [],
      "source": [
        "class myCallback(tf.keras.callbacks.Callback):\n",
        "  def on_epoch_end(self, epoch, logs=None):\n",
        "      if logs['val_accuracy'] > 0.90:\n",
        "        if logs['val_loss'] < 0.25:\n",
        "          self.model.stop_training = True\n",
        "\n",
        "myCallback = myCallback()"
      ]
    },
    {
      "cell_type": "markdown",
      "metadata": {
        "id": "OR3_DH0tLY1w"
      },
      "source": [
        "# Train the Model"
      ]
    },
    {
      "cell_type": "code",
      "execution_count": null,
      "metadata": {
        "colab": {
          "base_uri": "https://localhost:8080/"
        },
        "id": "COJvrmkBLYSr",
        "outputId": "c1c4a89a-b4b1-424c-9d81-69ac3d36db7c"
      },
      "outputs": [
        {
          "output_type": "stream",
          "name": "stdout",
          "text": [
            "Epoch 1/60\n",
            "808/808 [==============================] - ETA: 0s - loss: 0.5101 - accuracy: 0.8242\n",
            "Epoch 1: saving model to model.h5\n",
            "808/808 [==============================] - 360s 441ms/step - loss: 0.5101 - accuracy: 0.8242 - val_loss: 0.4290 - val_accuracy: 0.8532\n",
            "Epoch 2/60\n",
            "808/808 [==============================] - ETA: 0s - loss: 0.4991 - accuracy: 0.8296\n",
            "Epoch 2: saving model to model.h5\n",
            "808/808 [==============================] - 342s 423ms/step - loss: 0.4991 - accuracy: 0.8296 - val_loss: 0.6265 - val_accuracy: 0.8083\n",
            "Epoch 3/60\n",
            "808/808 [==============================] - ETA: 0s - loss: 0.4947 - accuracy: 0.8327\n",
            "Epoch 3: saving model to model.h5\n",
            "808/808 [==============================] - 346s 429ms/step - loss: 0.4947 - accuracy: 0.8327 - val_loss: 0.4479 - val_accuracy: 0.8510\n",
            "Epoch 4/60\n",
            "808/808 [==============================] - ETA: 0s - loss: 0.4900 - accuracy: 0.8293\n",
            "Epoch 4: saving model to model.h5\n",
            "808/808 [==============================] - 349s 431ms/step - loss: 0.4900 - accuracy: 0.8293 - val_loss: 0.4669 - val_accuracy: 0.8382\n",
            "Epoch 5/60\n",
            "808/808 [==============================] - ETA: 0s - loss: 0.4764 - accuracy: 0.8361\n",
            "Epoch 5: saving model to model.h5\n",
            "808/808 [==============================] - 343s 425ms/step - loss: 0.4764 - accuracy: 0.8361 - val_loss: 0.3897 - val_accuracy: 0.8596\n",
            "Epoch 6/60\n",
            "808/808 [==============================] - ETA: 0s - loss: 0.4820 - accuracy: 0.8351\n",
            "Epoch 6: saving model to model.h5\n",
            "808/808 [==============================] - 349s 431ms/step - loss: 0.4820 - accuracy: 0.8351 - val_loss: 0.4129 - val_accuracy: 0.8605\n",
            "Epoch 7/60\n",
            "808/808 [==============================] - ETA: 0s - loss: 0.4714 - accuracy: 0.8408\n",
            "Epoch 7: saving model to model.h5\n",
            "808/808 [==============================] - 350s 433ms/step - loss: 0.4714 - accuracy: 0.8408 - val_loss: 0.3778 - val_accuracy: 0.8664\n",
            "Epoch 8/60\n",
            "808/808 [==============================] - ETA: 0s - loss: 0.4695 - accuracy: 0.8390\n",
            "Epoch 8: saving model to model.h5\n",
            "808/808 [==============================] - 348s 430ms/step - loss: 0.4695 - accuracy: 0.8390 - val_loss: 0.3944 - val_accuracy: 0.8623\n",
            "Epoch 9/60\n",
            "808/808 [==============================] - ETA: 0s - loss: 0.4694 - accuracy: 0.8377\n",
            "Epoch 9: saving model to model.h5\n",
            "808/808 [==============================] - 345s 427ms/step - loss: 0.4694 - accuracy: 0.8377 - val_loss: 0.3903 - val_accuracy: 0.8655\n",
            "Epoch 10/60\n",
            "808/808 [==============================] - ETA: 0s - loss: 0.4490 - accuracy: 0.8468\n",
            "Epoch 10: saving model to model.h5\n",
            "808/808 [==============================] - 362s 448ms/step - loss: 0.4490 - accuracy: 0.8468 - val_loss: 0.3357 - val_accuracy: 0.8809\n",
            "Epoch 11/60\n",
            "808/808 [==============================] - ETA: 0s - loss: 0.4566 - accuracy: 0.8449\n",
            "Epoch 11: saving model to model.h5\n",
            "808/808 [==============================] - 345s 427ms/step - loss: 0.4566 - accuracy: 0.8449 - val_loss: 0.5700 - val_accuracy: 0.8139\n",
            "Epoch 12/60\n",
            "808/808 [==============================] - ETA: 0s - loss: 0.4463 - accuracy: 0.8476\n",
            "Epoch 12: saving model to model.h5\n",
            "808/808 [==============================] - 348s 431ms/step - loss: 0.4463 - accuracy: 0.8476 - val_loss: 0.4627 - val_accuracy: 0.8439\n",
            "Epoch 13/60\n",
            "808/808 [==============================] - ETA: 0s - loss: 0.4457 - accuracy: 0.8488\n",
            "Epoch 13: saving model to model.h5\n",
            "808/808 [==============================] - 344s 426ms/step - loss: 0.4457 - accuracy: 0.8488 - val_loss: 0.3478 - val_accuracy: 0.8806\n",
            "Epoch 14/60\n",
            "808/808 [==============================] - ETA: 0s - loss: 0.4343 - accuracy: 0.8533\n",
            "Epoch 14: saving model to model.h5\n",
            "808/808 [==============================] - 328s 405ms/step - loss: 0.4343 - accuracy: 0.8533 - val_loss: 0.3683 - val_accuracy: 0.8686\n",
            "Epoch 15/60\n",
            "808/808 [==============================] - ETA: 0s - loss: 0.4371 - accuracy: 0.8519\n",
            "Epoch 15: saving model to model.h5\n",
            "808/808 [==============================] - 346s 428ms/step - loss: 0.4371 - accuracy: 0.8519 - val_loss: 0.3228 - val_accuracy: 0.8870\n",
            "Epoch 16/60\n",
            "808/808 [==============================] - ETA: 0s - loss: 0.4294 - accuracy: 0.8557\n",
            "Epoch 16: saving model to model.h5\n",
            "808/808 [==============================] - 347s 429ms/step - loss: 0.4294 - accuracy: 0.8557 - val_loss: 0.4013 - val_accuracy: 0.8680\n",
            "Epoch 17/60\n",
            "808/808 [==============================] - ETA: 0s - loss: 0.4260 - accuracy: 0.8583\n",
            "Epoch 17: saving model to model.h5\n",
            "808/808 [==============================] - 332s 410ms/step - loss: 0.4260 - accuracy: 0.8583 - val_loss: 0.3837 - val_accuracy: 0.8685\n",
            "Epoch 18/60\n",
            "808/808 [==============================] - ETA: 0s - loss: 0.4206 - accuracy: 0.8550\n",
            "Epoch 18: saving model to model.h5\n",
            "808/808 [==============================] - 329s 407ms/step - loss: 0.4206 - accuracy: 0.8550 - val_loss: 0.3225 - val_accuracy: 0.8873\n",
            "Epoch 19/60\n",
            "808/808 [==============================] - ETA: 0s - loss: 0.4271 - accuracy: 0.8549\n",
            "Epoch 19: saving model to model.h5\n",
            "808/808 [==============================] - 329s 407ms/step - loss: 0.4271 - accuracy: 0.8549 - val_loss: 0.3947 - val_accuracy: 0.8694\n",
            "Epoch 20/60\n",
            "370/808 [============>.................] - ETA: 2:44 - loss: 0.4198 - accuracy: 0.8540"
          ]
        }
      ],
      "source": [
        "history = model.fit(train_generator, epochs=60, validation_data=validation_generator, callbacks=[myCallback, checkpoint])"
      ]
    },
    {
      "cell_type": "markdown",
      "metadata": {
        "id": "CwO4L4xEYGpa"
      },
      "source": [
        "Tes Akurasi dan Loss"
      ]
    },
    {
      "cell_type": "code",
      "execution_count": null,
      "metadata": {
        "id": "jXkrvAJKbUlB"
      },
      "outputs": [],
      "source": []
    },
    {
      "cell_type": "code",
      "execution_count": null,
      "metadata": {
        "id": "Cfti4GoElB88",
        "colab": {
          "base_uri": "https://localhost:8080/"
        },
        "outputId": "c0dab90c-d184-4617-c1ef-da44f3d9745a"
      },
      "outputs": [
        {
          "output_type": "stream",
          "name": "stdout",
          "text": [
            "209/209 [==============================] - 27s 128ms/step - loss: 0.3874 - accuracy: 0.8670\n",
            "Test Loss: 0.3873973488807678\n",
            "Test Accuracy: 0.8669759035110474\n"
          ]
        }
      ],
      "source": [
        "test_loss, test_accuracy = model.evaluate(validation_generator)\n",
        "print(\"Test Loss:\", test_loss)\n",
        "print(\"Test Accuracy:\", test_accuracy)"
      ]
    },
    {
      "cell_type": "markdown",
      "metadata": {
        "id": "sXsVcnWJYRMd"
      },
      "source": [
        "Run code below to show accuracy plot"
      ]
    },
    {
      "cell_type": "code",
      "execution_count": null,
      "metadata": {
        "id": "fB_HrwpXfbos",
        "colab": {
          "base_uri": "https://localhost:8080/",
          "height": 449
        },
        "outputId": "245fcc25-3303-4f80-8435-c6487759d175"
      },
      "outputs": [
        {
          "output_type": "display_data",
          "data": {
            "text/plain": [
              "<Figure size 640x480 with 1 Axes>"
            ],
            "image/png": "[encoded data removed]"
          },
          "metadata": {}
        }
      ],
      "source": [
        "import matplotlib.pyplot as plt\n",
        "import numpy as np\n",
        "\n",
        "plt.plot(np.arange(26), history.history['accuracy'])\n",
        "plt.plot(np.arange(26), history.history['val_accuracy'])\n",
        "plt.legend(['accuracy', 'val_accuracy'])\n",
        "plt.xlabel('Epochs')\n",
        "plt.ylabel('Accuracy')\n",
        "plt.show()\n"
      ]
    },
    {
      "cell_type": "markdown",
      "metadata": {
        "id": "Kqh1oeZcF9vP"
      },
      "source": [
        "# Predict image using the model"
      ]
    },
    {
      "cell_type": "code",
      "execution_count": null,
      "metadata": {
        "id": "N9sjZ9GIF98l"
      },
      "outputs": [],
      "source": [
        "import numpy as np\n",
        "from google.colab import files\n",
        "from tensorflow.keras.utils import load_img, img_to_array\n",
        "\n",
        "uploaded = files.upload()\n",
        "\n",
        "class_names = [\n",
        "    \"Tomato_Bacterial_spot\",\n",
        "    \"Tomato_Early_blight\",\n",
        "    \"Tomato_healty\",\n",
        "    \"Tomato_Late_blight\",\n",
        "    \"Tomato_Leaf_Mold\",\n",
        "    \"Tomato_mosaic_virus\",\n",
        "    \"Tomato_powdery_mildew\",\n",
        "    \"Tomato_Septoria_leaf_spot\",\n",
        "    \"Tomato_Spider_mites_Two-spotted_spider_mite\",\n",
        "    \"Tomato_Target_Spot\",\n",
        "    \"Tomato_Yellow_Leaf_Curl_Virus\"\n",
        "]\n",
        "\n",
        "for fn in uploaded.keys():\n",
        "    # Memprediksi gambar\n",
        "    path = fn\n",
        "    img = load_img(path, target_size=(200, 200))\n",
        "    x = img_to_array(img)\n",
        "    x = np.expand_dims(x, axis=0)\n",
        "\n",
        "    images = np.vstack([x])\n",
        "    classes = model.predict(images, batch_size=100)\n",
        "\n",
        "    predicted_class_index = np.argmax(classes, axis=1)[0]\n",
        "    predicted_class = class_names[predicted_class_index]\n",
        "\n",
        "    if predicted_class_index < 5:\n",
        "        print(\"Chili:\", predicted_class)\n",
        "    elif predicted_class_index < 11:\n",
        "        print(\"Rice:\", predicted_class)\n",
        "    elif predicted_class_index < 21:\n",
        "        print(\"Tomato:\", predicted_class)\n",
        "\n",
        "    print(classes)\n",
        "    print(fn)\n",
        "    print(\"Hasil klasifikasi:\", predicted_class)\n"
      ]
    },
    {
      "cell_type": "code",
      "execution_count": null,
      "metadata": {
        "id": "mq2Whz6Be7yl"
      },
      "outputs": [],
      "source": [
        "import numpy as np\n",
        "from google.colab import files\n",
        "from tensorflow.keras.utils import load_img, img_to_array\n",
        "img = load_img('/content/rice3-1.jpg', target_size=(200, 200))\n",
        "img = np.expand_dims(img, axis=0)\n",
        "#images = np.vstack([img])\n",
        "model.predict(img)"
      ]
    },
    {
      "cell_type": "markdown",
      "metadata": {
        "id": "hQkwLlyFF8d1"
      },
      "source": [
        "# Save the Trained Model"
      ]
    },
    {
      "cell_type": "code",
      "execution_count": null,
      "metadata": {
        "id": "GW8PLovbF9GV",
        "colab": {
          "base_uri": "https://localhost:8080/",
          "height": 17
        },
        "outputId": "84799cd1-85bf-4f4a-9420-7d60d8850f47"
      },
      "outputs": [
        {
          "output_type": "display_data",
          "data": {
            "text/plain": [
              "<IPython.core.display.Javascript object>"
            ],
            "application/javascript": [
              "\n",
              "    async function download(id, filename, size) {\n",
              "      if (!google.colab.kernel.accessAllowed) {\n",
              "        return;\n",
              "      }\n",
              "      const div = document.createElement('div');\n",
              "      const label = document.createElement('label');\n",
              "      label.textContent = `Downloading \"${filename}\": `;\n",
              "      div.appendChild(label);\n",
              "      const progress = document.createElement('progress');\n",
              "      progress.max = size;\n",
              "      div.appendChild(progress);\n",
              "      document.body.appendChild(div);\n",
              "\n",
              "      const buffers = [];\n",
              "      let downloaded = 0;\n",
              "\n",
              "      const channel = await google.colab.kernel.comms.open(id);\n",
              "      // Send a message to notify the kernel that we're ready.\n",
              "      channel.send({})\n",
              "\n",
              "      for await (const message of channel.messages) {\n",
              "        // Send a message to notify the kernel that we're ready.\n",
              "        channel.send({})\n",
              "        if (message.buffers) {\n",
              "          for (const buffer of message.buffers) {\n",
              "            buffers.push(buffer);\n",
              "            downloaded += buffer.byteLength;\n",
              "            progress.value = downloaded;\n",
              "          }\n",
              "        }\n",
              "      }\n",
              "      const blob = new Blob(buffers, {type: 'application/binary'});\n",
              "      const a = document.createElement('a');\n",
              "      a.href = window.URL.createObjectURL(blob);\n",
              "      a.download = filename;\n",
              "      div.appendChild(a);\n",
              "      a.click();\n",
              "      div.remove();\n",
              "    }\n",
              "  "
            ]
          },
          "metadata": {}
        },
        {
          "output_type": "display_data",
          "data": {
            "text/plain": [
              "<IPython.core.display.Javascript object>"
            ],
            "application/javascript": [
              "download(\"download_be617eeb-b464-4fd3-af98-daf1a02c1182\", \"model_tomato.h5\", 212656528)"
            ]
          },
          "metadata": {}
        }
      ],
      "source": [
        "from google.colab import files\n",
        "\n",
        "saved_model_path = \"./model_tomato.h5\"\n",
        "model.save(saved_model_path)\n",
        "files.download(saved_model_path)"
      ]
    },
    {
      "cell_type": "code",
      "execution_count": null,
      "metadata": {
        "id": "WYGEX2RrhXGj"
      },
      "outputs": [],
      "source": [
        "!cp '/content/my_model_rice90.h5' '/content/drive/MyDrive/Colab/Model'"
      ]
    },
    {
      "cell_type": "code",
      "execution_count": null,
      "metadata": {
        "id": "aQsBVHn8FQVe"
      },
      "outputs": [],
      "source": [
        "!cp '/content/model_rice_new.json' '/content/drive/MyDrive/Colab/Model'"
      ]
    },
    {
      "cell_type": "markdown",
      "metadata": {
        "id": "AjkzCbgryJeZ"
      },
      "source": [
        "Save Model to Json"
      ]
    },
    {
      "cell_type": "code",
      "execution_count": null,
      "metadata": {
        "id": "R_s-V-l-yTl4",
        "colab": {
          "base_uri": "https://localhost:8080/",
          "height": 17
        },
        "outputId": "8fcae50b-f4b2-43cf-ccce-6559d3f7e8f1"
      },
      "outputs": [
        {
          "output_type": "display_data",
          "data": {
            "text/plain": [
              "<IPython.core.display.Javascript object>"
            ],
            "application/javascript": [
              "\n",
              "    async function download(id, filename, size) {\n",
              "      if (!google.colab.kernel.accessAllowed) {\n",
              "        return;\n",
              "      }\n",
              "      const div = document.createElement('div');\n",
              "      const label = document.createElement('label');\n",
              "      label.textContent = `Downloading \"${filename}\": `;\n",
              "      div.appendChild(label);\n",
              "      const progress = document.createElement('progress');\n",
              "      progress.max = size;\n",
              "      div.appendChild(progress);\n",
              "      document.body.appendChild(div);\n",
              "\n",
              "      const buffers = [];\n",
              "      let downloaded = 0;\n",
              "\n",
              "      const channel = await google.colab.kernel.comms.open(id);\n",
              "      // Send a message to notify the kernel that we're ready.\n",
              "      channel.send({})\n",
              "\n",
              "      for await (const message of channel.messages) {\n",
              "        // Send a message to notify the kernel that we're ready.\n",
              "        channel.send({})\n",
              "        if (message.buffers) {\n",
              "          for (const buffer of message.buffers) {\n",
              "            buffers.push(buffer);\n",
              "            downloaded += buffer.byteLength;\n",
              "            progress.value = downloaded;\n",
              "          }\n",
              "        }\n",
              "      }\n",
              "      const blob = new Blob(buffers, {type: 'application/binary'});\n",
              "      const a = document.createElement('a');\n",
              "      a.href = window.URL.createObjectURL(blob);\n",
              "      a.download = filename;\n",
              "      div.appendChild(a);\n",
              "      a.click();\n",
              "      div.remove();\n",
              "    }\n",
              "  "
            ]
          },
          "metadata": {}
        },
        {
          "output_type": "display_data",
          "data": {
            "text/plain": [
              "<IPython.core.display.Javascript object>"
            ],
            "application/javascript": [
              "download(\"download_e2bf0217-7a85-4ce0-98b2-15231e4c0bcd\", \"model_tomato.json\", 4586)"
            ]
          },
          "metadata": {}
        }
      ],
      "source": [
        "from tensorflow.keras.models import load_model\n",
        "from google.colab import files\n",
        "\n",
        "# Load the saved model\n",
        "saved_model_path = \"./model_tomato.h5\"\n",
        "model = load_model(saved_model_path)\n",
        "\n",
        "# Convert the model to JSON format\n",
        "json_model = model.to_json()\n",
        "\n",
        "# Save the JSON model to a file\n",
        "json_model_path = \"./model_tomato.json\"\n",
        "with open(json_model_path, \"w\") as json_file:\n",
        "    json_file.write(json_model)\n",
        "\n",
        "# Download the JSON model file\n",
        "files.download(json_model_path)\n"
      ]
    },
    {
      "cell_type": "markdown",
      "metadata": {
        "id": "PAEy54QhVGkJ"
      },
      "source": [
        "Save to TensorFlow Lite"
      ]
    },
    {
      "cell_type": "code",
      "execution_count": null,
      "metadata": {
        "id": "L6MFp6-gVTua"
      },
      "outputs": [],
      "source": [
        "model=tf.keras.models.load_model(\"model.h5\")"
      ]
    },
    {
      "cell_type": "code",
      "execution_count": null,
      "metadata": {
        "id": "qtl5TFXXVvBG",
        "colab": {
          "base_uri": "https://localhost:8080/",
          "height": 54
        },
        "outputId": "486ee0c3-e451-4d75-a1e2-dbe2cc186a14"
      },
      "outputs": [
        {
          "output_type": "stream",
          "name": "stderr",
          "text": [
            "WARNING:absl:Found untraced functions such as _jit_compiled_convolution_op, _jit_compiled_convolution_op, _jit_compiled_convolution_op, _update_step_xla while saving (showing 4 of 4). These functions will not be directly callable after loading.\n"
          ]
        },
        {
          "output_type": "display_data",
          "data": {
            "text/plain": [
              "<IPython.core.display.Javascript object>"
            ],
            "application/javascript": [
              "\n",
              "    async function download(id, filename, size) {\n",
              "      if (!google.colab.kernel.accessAllowed) {\n",
              "        return;\n",
              "      }\n",
              "      const div = document.createElement('div');\n",
              "      const label = document.createElement('label');\n",
              "      label.textContent = `Downloading \"${filename}\": `;\n",
              "      div.appendChild(label);\n",
              "      const progress = document.createElement('progress');\n",
              "      progress.max = size;\n",
              "      div.appendChild(progress);\n",
              "      document.body.appendChild(div);\n",
              "\n",
              "      const buffers = [];\n",
              "      let downloaded = 0;\n",
              "\n",
              "      const channel = await google.colab.kernel.comms.open(id);\n",
              "      // Send a message to notify the kernel that we're ready.\n",
              "      channel.send({})\n",
              "\n",
              "      for await (const message of channel.messages) {\n",
              "        // Send a message to notify the kernel that we're ready.\n",
              "        channel.send({})\n",
              "        if (message.buffers) {\n",
              "          for (const buffer of message.buffers) {\n",
              "            buffers.push(buffer);\n",
              "            downloaded += buffer.byteLength;\n",
              "            progress.value = downloaded;\n",
              "          }\n",
              "        }\n",
              "      }\n",
              "      const blob = new Blob(buffers, {type: 'application/binary'});\n",
              "      const a = document.createElement('a');\n",
              "      a.href = window.URL.createObjectURL(blob);\n",
              "      a.download = filename;\n",
              "      div.appendChild(a);\n",
              "      a.click();\n",
              "      div.remove();\n",
              "    }\n",
              "  "
            ]
          },
          "metadata": {}
        },
        {
          "output_type": "display_data",
          "data": {
            "text/plain": [
              "<IPython.core.display.Javascript object>"
            ],
            "application/javascript": [
              "download(\"download_a8a3efcf-fb95-4d9c-b072-0882c4372507\", \"model_tomato.tflite\", 70868552)"
            ]
          },
          "metadata": {}
        }
      ],
      "source": [
        "import tensorflow as tf\n",
        "from tensorflow.keras.models import load_model\n",
        "from google.colab import files\n",
        "\n",
        "\n",
        "saved_model_path = \"./model_tomato.h5\"\n",
        "model = load_model(saved_model_path)\n",
        "\n",
        "\n",
        "converter = tf.lite.TFLiteConverter.from_keras_model(model)\n",
        "tflite_model = converter.convert()\n",
        "\n",
        "\n",
        "tflite_model_path = \"./model_tomato.tflite\"\n",
        "with open(tflite_model_path, \"wb\") as tflite_file:\n",
        "    tflite_file.write(tflite_model)\n",
        "\n",
        "files.download(tflite_model_path)\n"
      ]
    },
    {
      "cell_type": "code",
      "execution_count": null,
      "metadata": {
        "id": "gkxW1wODV_Yq"
      },
      "outputs": [],
      "source": [
        "with open (\"model.tflite\",\"wb\") as tflite_file:\n",
        "     tflite_file.write(converter)"
      ]
    },
    {
      "cell_type": "code",
      "execution_count": null,
      "metadata": {
        "id": "aEHplcLcVoOZ"
      },
      "outputs": [],
      "source": [
        "import os\n",
        "from PIL import Image\n",
        "\n",
        "folder_path = '/content/dataset/DATASET/Val'\n",
        "\n",
        "def check_images(folder_path):\n",
        "    for root, dirs, files in os.walk(folder_path):\n",
        "        for file in files:\n",
        "            file_path = os.path.join(root, file)\n",
        "            try:\n",
        "                img = Image.open(file_path)\n",
        "                img.verify()  # Verifikasi gambar\n",
        "            except (IOError, SyntaxError) as e:\n",
        "                print(\"File rusak:\", file_path)\n",
        "\n",
        "check_images(folder_path)\n"
      ]
    }
  ],
  "metadata": {
    "accelerator": "GPU",
    "colab": {
      "provenance": [],
      "include_colab_link": true
    },
    "kernelspec": {
      "display_name": "Python 3",
      "name": "python3"
    },
    "language_info": {
      "name": "python"
    }
  },
  "nbformat": 4,
  "nbformat_minor": 0
}