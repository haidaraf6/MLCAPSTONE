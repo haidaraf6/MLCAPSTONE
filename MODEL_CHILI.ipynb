{
  "cells": [
    {
      "cell_type": "markdown",
      "metadata": {
        "id": "view-in-github",
        "colab_type": "text"
      },
      "source": [
        "<a href=\"https://colab.research.google.com/github/haidaraf6/MLCAPSTONE/blob/main/MODEL_CHILI.ipynb\" target=\"_parent\"><img src=\"https://colab.research.google.com/assets/colab-badge.svg\" alt=\"Open In Colab\"/></a>"
      ]
    },
    {
      "cell_type": "code",
      "execution_count": null,
      "metadata": {
        "id": "JM3xIcAF03ov"
      },
      "outputs": [],
      "source": [
        "import tensorflow as tf\n",
        "import os\n",
        "import zipfile\n",
        "import tensorflow_datasets as tfds\n"
      ]
    },
    {
      "cell_type": "markdown",
      "metadata": {
        "id": "YCWi3WGzLRRw"
      },
      "source": [
        "# Prepare the Dataset"
      ]
    },
    {
      "cell_type": "code",
      "execution_count": null,
      "metadata": {
        "colab": {
          "base_uri": "https://localhost:8080/"
        },
        "id": "QDRqvUYUEzFw",
        "outputId": "6e0b34e3-8da1-430b-c236-53ba9b6f4acb"
      },
      "outputs": [
        {
          "output_type": "stream",
          "name": "stdout",
          "text": [
            "Mounted at /content/drive\n"
          ]
        }
      ],
      "source": [
        "from google.colab import drive\n",
        "drive.mount('/content/drive')"
      ]
    },
    {
      "cell_type": "code",
      "execution_count": null,
      "metadata": {
        "id": "wKjOisC_E4cG"
      },
      "outputs": [],
      "source": [
        "!unzip '/content/drive/MyDrive/Colab/dataset_rice.zip'"
      ]
    },
    {
      "cell_type": "code",
      "execution_count": null,
      "metadata": {
        "id": "v9MsKDHn3Wxb"
      },
      "outputs": [],
      "source": [
        "!unrar x -Y \"/content/drive/MyDrive/Colab/Rice Dataset.rar\" \"/content/dataset/\""
      ]
    },
    {
      "cell_type": "code",
      "execution_count": null,
      "metadata": {
        "id": "azikHpwN3vZY"
      },
      "outputs": [],
      "source": [
        "import zipfile\n",
        "\n",
        "file_dataset = '/content/drive/MyDrive/ModelML/Chili/dataset_chili.zip'\n",
        "zipdata = zipfile.ZipFile(file_dataset, 'r')\n",
        "zipdata.extractall('dataset')\n",
        "zipdata.close()\n"
      ]
    },
    {
      "cell_type": "markdown",
      "metadata": {
        "id": "6K3ImY-XLJ3K"
      },
      "source": [
        "# Model Build"
      ]
    },
    {
      "cell_type": "code",
      "execution_count": null,
      "metadata": {
        "colab": {
          "base_uri": "https://localhost:8080/"
        },
        "id": "UT2dhWIf3vur",
        "outputId": "2662df87-c16c-42c1-d5ed-e18d11feccbc"
      },
      "outputs": [
        {
          "output_type": "stream",
          "name": "stdout",
          "text": [
            "Model: \"sequential_9\"\n",
            "_________________________________________________________________\n",
            " Layer (type)                Output Shape              Param #   \n",
            "=================================================================\n",
            " conv2d_19 (Conv2D)          (None, 198, 198, 64)      1792      \n",
            "                                                                 \n",
            " max_pooling2d_18 (MaxPoolin  (None, 99, 99, 64)       0         \n",
            " g2D)                                                            \n",
            "                                                                 \n",
            " conv2d_20 (Conv2D)          (None, 97, 97, 128)       73856     \n",
            "                                                                 \n",
            " max_pooling2d_19 (MaxPoolin  (None, 48, 48, 128)      0         \n",
            " g2D)                                                            \n",
            "                                                                 \n",
            " conv2d_21 (Conv2D)          (None, 46, 46, 256)       295168    \n",
            "                                                                 \n",
            " max_pooling2d_20 (MaxPoolin  (None, 23, 23, 256)      0         \n",
            " g2D)                                                            \n",
            "                                                                 \n",
            " flatten_8 (Flatten)         (None, 135424)            0         \n",
            "                                                                 \n",
            " dense_45 (Dense)            (None, 256)               34668800  \n",
            "                                                                 \n",
            " dense_46 (Dense)            (None, 128)               32896     \n",
            "                                                                 \n",
            " dense_47 (Dense)            (None, 64)                8256      \n",
            "                                                                 \n",
            " dense_48 (Dense)            (None, 32)                2080      \n",
            "                                                                 \n",
            " dense_49 (Dense)            (None, 5)                 165       \n",
            "                                                                 \n",
            "=================================================================\n",
            "Total params: 35,083,013\n",
            "Trainable params: 35,083,013\n",
            "Non-trainable params: 0\n",
            "_________________________________________________________________\n"
          ]
        }
      ],
      "source": [
        "import tensorflow as tf\n",
        "from tensorflow.keras.layers import Conv2D, Dense, PReLU, MaxPooling2D, Flatten, Dropout, BatchNormalization\n",
        "from tensorflow.keras.models import Sequential\n",
        "from tensorflow.keras.optimizers import Adam\n",
        "\n",
        "model = Sequential()\n",
        "model.add(Conv2D(64, (3, 3), activation='relu', input_shape=(200, 200, 3)))\n",
        "model.add(MaxPooling2D(2, 2))\n",
        "model.add(Conv2D(128, (3, 3), activation='relu'))\n",
        "model.add(MaxPooling2D(2, 2))\n",
        "model.add(Conv2D(256, (3, 3), activation='relu'))\n",
        "model.add(MaxPooling2D(2, 2))\n",
        "model.add(Flatten())\n",
        "model.add(Dense(256, activation='relu'))\n",
        "model.add(Dense(128, activation='relu'))\n",
        "model.add(Dense(64, activation='relu'))\n",
        "model.add(Dense(32, activation='relu'))\n",
        "model.add(Dense(5, activation='softmax'))\n",
        "\n",
        "model.summary()\n"
      ]
    },
    {
      "cell_type": "code",
      "source": [
        "import tensorflow as tf\n",
        "from tensorflow.keras.layers import Conv2D, Dense, BatchNormalization, Activation, MaxPooling2D, GlobalAveragePooling2D, Dropout, Input, Add\n",
        "from tensorflow.keras.models import Model\n",
        "from tensorflow.keras.optimizers import Adam\n",
        "\n",
        "def residual_block(x, filters, kernel_size=3, stride=1):\n",
        "    shortcut = x\n",
        "    x = Conv2D(filters, kernel_size, strides=stride, padding='same')(x)\n",
        "    x = BatchNormalization()(x)\n",
        "    x = Activation('relu')(x)\n",
        "    x = Conv2D(filters, kernel_size, padding='same')(x)\n",
        "    x = BatchNormalization()(x)\n",
        "\n",
        "    if stride != 1:\n",
        "        shortcut = Conv2D(filters, kernel_size, strides=stride, padding='same')(shortcut)\n",
        "        shortcut = BatchNormalization()(shortcut)\n",
        "\n",
        "    x = Add()([x, shortcut])\n",
        "    x = Activation('relu')(x)\n",
        "    return x\n",
        "\n",
        "input_shape = (200, 200, 3)\n",
        "inputs = Input(shape=input_shape)\n",
        "\n",
        "x = Conv2D(64, (3, 3), padding='same', strides=2)(inputs)\n",
        "x = BatchNormalization()(x)\n",
        "x = Activation('relu')(x)\n",
        "x = MaxPooling2D((2, 2))(x)\n",
        "\n",
        "x = residual_block(x, 128, stride=2)\n",
        "x = residual_block(x, 256, stride=2)\n",
        "\n",
        "x = GlobalAveragePooling2D()(x)\n",
        "x = Dense(256, activation='relu')(x)\n",
        "x = Dropout(0.5)(x)\n",
        "x = Dense(128, activation='relu')(x)\n",
        "x = Dropout(0.5)(x)\n",
        "outputs = Dense(5, activation='softmax')(x)\n",
        "\n",
        "model = Model(inputs, outputs)\n",
        "model.compile(optimizer=Adam(learning_rate=0.001), loss='categorical_crossentropy', metrics=['accuracy'])\n",
        "\n",
        "model.summary()\n"
      ],
      "metadata": {
        "id": "GS44kPiPKowy"
      },
      "execution_count": null,
      "outputs": []
    },
    {
      "cell_type": "code",
      "execution_count": null,
      "metadata": {
        "id": "FhkN92sW4DPY"
      },
      "outputs": [],
      "source": [
        "optimizer = tf.keras.optimizers.Adam(learning_rate=0.001)\n",
        "model.compile(optimizer=optimizer, loss='categorical_crossentropy', metrics=['accuracy'])"
      ]
    },
    {
      "cell_type": "markdown",
      "metadata": {
        "id": "f_6s9iSpK25x"
      },
      "source": [
        "# Data Augmentation\n",
        "*The settings can be changed later*\n"
      ]
    },
    {
      "cell_type": "code",
      "execution_count": null,
      "metadata": {
        "colab": {
          "base_uri": "https://localhost:8080/"
        },
        "id": "MTOZUZHeK2d0",
        "outputId": "af376640-ad47-4c38-8300-69c6fe87de2f"
      },
      "outputs": [
        {
          "output_type": "stream",
          "name": "stdout",
          "text": [
            "Found 400 images belonging to 5 classes.\n",
            "Found 400 images belonging to 5 classes.\n"
          ]
        }
      ],
      "source": [
        "from keras.preprocessing.image import ImageDataGenerator\n",
        "\n",
        "TRAINING_DIR = '/content/dataset/dataset_chili/Train'\n",
        "training_datagen = ImageDataGenerator(\n",
        "    rescale=1./255,\n",
        "    rotation_range=40,\n",
        "    width_shift_range=0.2,\n",
        "    height_shift_range=0.2,\n",
        "    shear_range=0.2,\n",
        "    zoom_range=0.2,\n",
        "    horizontal_flip=True,\n",
        "    fill_mode='nearest'\n",
        ")\n",
        "\n",
        "VALIDATION_DIR = '/content/dataset/dataset_chili/Train'\n",
        "validation_datagen = ImageDataGenerator(rescale=1./255)\n",
        "\n",
        "train_generator = training_datagen.flow_from_directory(\n",
        "    TRAINING_DIR,\n",
        "    target_size=(200, 200),\n",
        "    class_mode='categorical',\n",
        "    batch_size=32\n",
        ")\n",
        "\n",
        "validation_generator = validation_datagen.flow_from_directory(\n",
        "    VALIDATION_DIR,\n",
        "    target_size=(200, 200),\n",
        "    class_mode='categorical',\n",
        "    batch_size=32\n",
        ")\n"
      ]
    },
    {
      "cell_type": "code",
      "execution_count": null,
      "metadata": {
        "id": "r1AFQSmok_Cf"
      },
      "outputs": [],
      "source": []
    },
    {
      "cell_type": "code",
      "execution_count": null,
      "metadata": {
        "id": "LLh_jLPfEgRU"
      },
      "outputs": [],
      "source": [
        "from google.colab import files\n",
        "\n",
        "model.save('model.h5')\n",
        "files.download('model.h5')"
      ]
    },
    {
      "cell_type": "code",
      "execution_count": null,
      "metadata": {
        "id": "XVjBIfKWoyKM"
      },
      "outputs": [],
      "source": [
        "model_h5 = '/content/drive/MyDrive/Colab/Model/my_model_rice_new.h5'\n",
        "model=tf.keras.models.load_model(model_h5)"
      ]
    },
    {
      "cell_type": "code",
      "execution_count": null,
      "metadata": {
        "id": "RjDln84wBzmB"
      },
      "outputs": [],
      "source": [
        "from tensorflow.keras.callbacks import ModelCheckpoint\n",
        "\n",
        "checkpoint=ModelCheckpoint(\"/content/checkpoints\",\n",
        "                           monitor='val_accuracy',\n",
        "                           verbose=1,\n",
        "                           save_best_only=True,\n",
        "                           mode='max')\n"
      ]
    },
    {
      "cell_type": "code",
      "execution_count": null,
      "metadata": {
        "id": "amEuhffwccgp"
      },
      "outputs": [],
      "source": [
        "class myCallback(tf.keras.callbacks.Callback):\n",
        "  def on_epoch_end(self, epoch, logs=None):\n",
        "      if logs['val_accuracy'] > 0.87:\n",
        "        if logs['val_loss'] < 0.40:\n",
        "          self.model.stop_training = True\n",
        "\n",
        "myCallback = myCallback()"
      ]
    },
    {
      "cell_type": "markdown",
      "metadata": {
        "id": "OR3_DH0tLY1w"
      },
      "source": [
        "# Train the Model"
      ]
    },
    {
      "cell_type": "code",
      "execution_count": null,
      "metadata": {
        "colab": {
          "base_uri": "https://localhost:8080/"
        },
        "id": "COJvrmkBLYSr",
        "outputId": "1d2d8f63-858a-48de-94b3-26db7385dc9b"
      },
      "outputs": [
        {
          "output_type": "stream",
          "name": "stdout",
          "text": [
            "Epoch 1/100\n",
            "13/13 [==============================] - ETA: 0s - loss: 0.6414 - accuracy: 0.7300\n",
            "Epoch 1: val_accuracy did not improve from 0.81250\n",
            "13/13 [==============================] - 5s 369ms/step - loss: 0.6414 - accuracy: 0.7300 - val_loss: 0.6585 - val_accuracy: 0.7425\n",
            "Epoch 2/100\n",
            "13/13 [==============================] - ETA: 0s - loss: 0.7327 - accuracy: 0.7250\n",
            "Epoch 2: val_accuracy did not improve from 0.81250\n",
            "13/13 [==============================] - 7s 539ms/step - loss: 0.7327 - accuracy: 0.7250 - val_loss: 0.6604 - val_accuracy: 0.7600\n",
            "Epoch 3/100\n",
            "13/13 [==============================] - ETA: 0s - loss: 0.7172 - accuracy: 0.7275\n",
            "Epoch 3: val_accuracy did not improve from 0.81250\n",
            "13/13 [==============================] - 5s 357ms/step - loss: 0.7172 - accuracy: 0.7275 - val_loss: 0.7740 - val_accuracy: 0.7000\n",
            "Epoch 4/100\n",
            "13/13 [==============================] - ETA: 0s - loss: 0.7510 - accuracy: 0.7175\n",
            "Epoch 4: val_accuracy did not improve from 0.81250\n",
            "13/13 [==============================] - 5s 356ms/step - loss: 0.7510 - accuracy: 0.7175 - val_loss: 0.5351 - val_accuracy: 0.8050\n",
            "Epoch 5/100\n",
            "13/13 [==============================] - ETA: 0s - loss: 0.6599 - accuracy: 0.7350\n",
            "Epoch 5: val_accuracy did not improve from 0.81250\n",
            "13/13 [==============================] - 6s 480ms/step - loss: 0.6599 - accuracy: 0.7350 - val_loss: 0.6106 - val_accuracy: 0.7875\n",
            "Epoch 6/100\n",
            "13/13 [==============================] - ETA: 0s - loss: 0.5961 - accuracy: 0.7450\n",
            "Epoch 6: val_accuracy did not improve from 0.81250\n",
            "13/13 [==============================] - 5s 359ms/step - loss: 0.5961 - accuracy: 0.7450 - val_loss: 0.5539 - val_accuracy: 0.7875\n",
            "Epoch 7/100\n",
            "13/13 [==============================] - ETA: 0s - loss: 0.6741 - accuracy: 0.7175\n",
            "Epoch 7: val_accuracy did not improve from 0.81250\n",
            "13/13 [==============================] - 5s 382ms/step - loss: 0.6741 - accuracy: 0.7175 - val_loss: 0.4826 - val_accuracy: 0.8075\n",
            "Epoch 8/100\n",
            "13/13 [==============================] - ETA: 0s - loss: 0.7057 - accuracy: 0.7100\n",
            "Epoch 8: val_accuracy improved from 0.81250 to 0.81750, saving model to /content/checkpoints\n"
          ]
        },
        {
          "output_type": "stream",
          "name": "stderr",
          "text": [
            "WARNING:absl:Found untraced functions such as _jit_compiled_convolution_op, _jit_compiled_convolution_op, _jit_compiled_convolution_op while saving (showing 3 of 3). These functions will not be directly callable after loading.\n"
          ]
        },
        {
          "output_type": "stream",
          "name": "stdout",
          "text": [
            "\b\b\b\b\b\b\b\b\b\b\b\b\b\b\b\b\b\b\b\b\b\b\b\b\b\b\b\b\b\b\b\b\b\b\b\b\b\b\b\b\b\b\b\b\b\b\b\b\b\b\b\b\b\b\b\b\b\b\b\b\b\b\b\b\b\b\b\b\b\b\b\b\b\b\b\b\b\b\b\b\b\b\r13/13 [==============================] - 9s 708ms/step - loss: 0.7057 - accuracy: 0.7100 - val_loss: 0.4729 - val_accuracy: 0.8175\n",
            "Epoch 9/100\n",
            "13/13 [==============================] - ETA: 0s - loss: 0.6236 - accuracy: 0.7550\n",
            "Epoch 9: val_accuracy improved from 0.81750 to 0.82000, saving model to /content/checkpoints\n"
          ]
        },
        {
          "output_type": "stream",
          "name": "stderr",
          "text": [
            "WARNING:absl:Found untraced functions such as _jit_compiled_convolution_op, _jit_compiled_convolution_op, _jit_compiled_convolution_op while saving (showing 3 of 3). These functions will not be directly callable after loading.\n"
          ]
        },
        {
          "output_type": "stream",
          "name": "stdout",
          "text": [
            "\b\b\b\b\b\b\b\b\b\b\b\b\b\b\b\b\b\b\b\b\b\b\b\b\b\b\b\b\b\b\b\b\b\b\b\b\b\b\b\b\b\b\b\b\b\b\b\b\b\b\b\b\b\b\b\b\b\b\b\b\b\b\b\b\b\b\b\b\b\b\b\b\b\b\b\b\b\b\b\b\b\b\r13/13 [==============================] - 9s 700ms/step - loss: 0.6236 - accuracy: 0.7550 - val_loss: 0.4438 - val_accuracy: 0.8200\n",
            "Epoch 10/100\n",
            "13/13 [==============================] - ETA: 0s - loss: 0.5237 - accuracy: 0.7825\n",
            "Epoch 10: val_accuracy did not improve from 0.82000\n",
            "13/13 [==============================] - 5s 366ms/step - loss: 0.5237 - accuracy: 0.7825 - val_loss: 0.4469 - val_accuracy: 0.8125\n",
            "Epoch 11/100\n",
            "13/13 [==============================] - ETA: 0s - loss: 0.5649 - accuracy: 0.7875\n",
            "Epoch 11: val_accuracy improved from 0.82000 to 0.86250, saving model to /content/checkpoints\n"
          ]
        },
        {
          "output_type": "stream",
          "name": "stderr",
          "text": [
            "WARNING:absl:Found untraced functions such as _jit_compiled_convolution_op, _jit_compiled_convolution_op, _jit_compiled_convolution_op while saving (showing 3 of 3). These functions will not be directly callable after loading.\n"
          ]
        },
        {
          "output_type": "stream",
          "name": "stdout",
          "text": [
            "\b\b\b\b\b\b\b\b\b\b\b\b\b\b\b\b\b\b\b\b\b\b\b\b\b\b\b\b\b\b\b\b\b\b\b\b\b\b\b\b\b\b\b\b\b\b\b\b\b\b\b\b\b\b\b\b\b\b\b\b\b\b\b\b\b\b\b\b\b\b\b\b\b\b\b\b\b\b\b\b\b\b\r13/13 [==============================] - 9s 702ms/step - loss: 0.5649 - accuracy: 0.7875 - val_loss: 0.3580 - val_accuracy: 0.8625\n",
            "Epoch 12/100\n",
            "13/13 [==============================] - ETA: 0s - loss: 0.5202 - accuracy: 0.7775\n",
            "Epoch 12: val_accuracy did not improve from 0.86250\n",
            "13/13 [==============================] - 5s 402ms/step - loss: 0.5202 - accuracy: 0.7775 - val_loss: 0.4983 - val_accuracy: 0.8075\n",
            "Epoch 13/100\n",
            "13/13 [==============================] - ETA: 0s - loss: 0.4886 - accuracy: 0.7850\n",
            "Epoch 13: val_accuracy did not improve from 0.86250\n",
            "13/13 [==============================] - 6s 488ms/step - loss: 0.4886 - accuracy: 0.7850 - val_loss: 0.3736 - val_accuracy: 0.8625\n",
            "Epoch 14/100\n",
            "13/13 [==============================] - ETA: 0s - loss: 0.5022 - accuracy: 0.8200\n",
            "Epoch 14: val_accuracy did not improve from 0.86250\n",
            "13/13 [==============================] - 5s 355ms/step - loss: 0.5022 - accuracy: 0.8200 - val_loss: 0.3787 - val_accuracy: 0.8275\n",
            "Epoch 15/100\n",
            "13/13 [==============================] - ETA: 0s - loss: 0.5049 - accuracy: 0.7950\n",
            "Epoch 15: val_accuracy did not improve from 0.86250\n",
            "13/13 [==============================] - 5s 356ms/step - loss: 0.5049 - accuracy: 0.7950 - val_loss: 0.3746 - val_accuracy: 0.8550\n",
            "Epoch 16/100\n",
            "13/13 [==============================] - ETA: 0s - loss: 0.4674 - accuracy: 0.8225\n",
            "Epoch 16: val_accuracy did not improve from 0.86250\n",
            "13/13 [==============================] - 6s 484ms/step - loss: 0.4674 - accuracy: 0.8225 - val_loss: 0.3686 - val_accuracy: 0.8450\n",
            "Epoch 17/100\n",
            "13/13 [==============================] - ETA: 0s - loss: 0.4826 - accuracy: 0.8050\n",
            "Epoch 17: val_accuracy did not improve from 0.86250\n",
            "13/13 [==============================] - 6s 509ms/step - loss: 0.4826 - accuracy: 0.8050 - val_loss: 0.3732 - val_accuracy: 0.8500\n",
            "Epoch 18/100\n",
            "13/13 [==============================] - ETA: 0s - loss: 0.6062 - accuracy: 0.7725\n",
            "Epoch 18: val_accuracy did not improve from 0.86250\n",
            "13/13 [==============================] - 6s 479ms/step - loss: 0.6062 - accuracy: 0.7725 - val_loss: 0.6143 - val_accuracy: 0.7775\n",
            "Epoch 19/100\n",
            "13/13 [==============================] - ETA: 0s - loss: 0.6443 - accuracy: 0.7725\n",
            "Epoch 19: val_accuracy did not improve from 0.86250\n",
            "13/13 [==============================] - 5s 363ms/step - loss: 0.6443 - accuracy: 0.7725 - val_loss: 0.6736 - val_accuracy: 0.7250\n",
            "Epoch 20/100\n",
            "13/13 [==============================] - ETA: 0s - loss: 0.6760 - accuracy: 0.7350\n",
            "Epoch 20: val_accuracy did not improve from 0.86250\n",
            "13/13 [==============================] - 5s 408ms/step - loss: 0.6760 - accuracy: 0.7350 - val_loss: 0.4477 - val_accuracy: 0.8575\n",
            "Epoch 21/100\n",
            "13/13 [==============================] - ETA: 0s - loss: 0.5993 - accuracy: 0.7575\n",
            "Epoch 21: val_accuracy did not improve from 0.86250\n",
            "13/13 [==============================] - 5s 366ms/step - loss: 0.5993 - accuracy: 0.7575 - val_loss: 0.4388 - val_accuracy: 0.8250\n",
            "Epoch 22/100\n",
            "13/13 [==============================] - ETA: 0s - loss: 0.5410 - accuracy: 0.7975\n",
            "Epoch 22: val_accuracy did not improve from 0.86250\n",
            "13/13 [==============================] - 6s 488ms/step - loss: 0.5410 - accuracy: 0.7975 - val_loss: 0.4344 - val_accuracy: 0.8425\n",
            "Epoch 23/100\n",
            "13/13 [==============================] - ETA: 0s - loss: 0.5203 - accuracy: 0.8150\n",
            "Epoch 23: val_accuracy did not improve from 0.86250\n",
            "13/13 [==============================] - 5s 365ms/step - loss: 0.5203 - accuracy: 0.8150 - val_loss: 0.4973 - val_accuracy: 0.8300\n",
            "Epoch 24/100\n",
            "13/13 [==============================] - ETA: 0s - loss: 0.4872 - accuracy: 0.8225\n",
            "Epoch 24: val_accuracy did not improve from 0.86250\n",
            "13/13 [==============================] - 5s 402ms/step - loss: 0.4872 - accuracy: 0.8225 - val_loss: 0.3657 - val_accuracy: 0.8575\n",
            "Epoch 25/100\n",
            "13/13 [==============================] - ETA: 0s - loss: 0.5791 - accuracy: 0.7475\n",
            "Epoch 25: val_accuracy did not improve from 0.86250\n",
            "13/13 [==============================] - 5s 360ms/step - loss: 0.5791 - accuracy: 0.7475 - val_loss: 0.4082 - val_accuracy: 0.8600\n",
            "Epoch 26/100\n",
            "13/13 [==============================] - ETA: 0s - loss: 0.5327 - accuracy: 0.7975\n",
            "Epoch 26: val_accuracy improved from 0.86250 to 0.87750, saving model to /content/checkpoints\n"
          ]
        },
        {
          "output_type": "stream",
          "name": "stderr",
          "text": [
            "WARNING:absl:Found untraced functions such as _jit_compiled_convolution_op, _jit_compiled_convolution_op, _jit_compiled_convolution_op while saving (showing 3 of 3). These functions will not be directly callable after loading.\n"
          ]
        },
        {
          "output_type": "stream",
          "name": "stdout",
          "text": [
            "\b\b\b\b\b\b\b\b\b\b\b\b\b\b\b\b\b\b\b\b\b\b\b\b\b\b\b\b\b\b\b\b\b\b\b\b\b\b\b\b\b\b\b\b\b\b\b\b\b\b\b\b\b\b\b\b\b\b\b\b\b\b\b\b\b\b\b\b\b\b\b\b\b\b\b\b\b\b\b\b\b\b\r13/13 [==============================] - 9s 754ms/step - loss: 0.5327 - accuracy: 0.7975 - val_loss: 0.3350 - val_accuracy: 0.8775\n"
          ]
        }
      ],
      "source": [
        "history = model.fit(train_generator, epochs=100, validation_data=validation_generator, callbacks=[myCallback, checkpoint])"
      ]
    },
    {
      "cell_type": "code",
      "source": [
        "pip install --upgrade tensorflow\n"
      ],
      "metadata": {
        "colab": {
          "base_uri": "https://localhost:8080/"
        },
        "id": "jbIofIuSNUqf",
        "outputId": "154b4300-35bd-4a63-8370-a3993ab87341"
      },
      "execution_count": null,
      "outputs": [
        {
          "output_type": "stream",
          "name": "stdout",
          "text": [
            "Looking in indexes: https://pypi.org/simple, https://us-python.pkg.dev/colab-wheels/public/simple/\n",
            "Requirement already satisfied: tensorflow in /usr/local/lib/python3.10/dist-packages (2.12.0)\n",
            "Requirement already satisfied: absl-py>=1.0.0 in /usr/local/lib/python3.10/dist-packages (from tensorflow) (1.4.0)\n",
            "Requirement already satisfied: astunparse>=1.6.0 in /usr/local/lib/python3.10/dist-packages (from tensorflow) (1.6.3)\n",
            "Requirement already satisfied: flatbuffers>=2.0 in /usr/local/lib/python3.10/dist-packages (from tensorflow) (23.3.3)\n",
            "Requirement already satisfied: gast<=0.4.0,>=0.2.1 in /usr/local/lib/python3.10/dist-packages (from tensorflow) (0.4.0)\n",
            "Requirement already satisfied: google-pasta>=0.1.1 in /usr/local/lib/python3.10/dist-packages (from tensorflow) (0.2.0)\n",
            "Requirement already satisfied: grpcio<2.0,>=1.24.3 in /usr/local/lib/python3.10/dist-packages (from tensorflow) (1.54.0)\n",
            "Requirement already satisfied: h5py>=2.9.0 in /usr/local/lib/python3.10/dist-packages (from tensorflow) (3.8.0)\n",
            "Requirement already satisfied: jax>=0.3.15 in /usr/local/lib/python3.10/dist-packages (from tensorflow) (0.4.10)\n",
            "Requirement already satisfied: keras<2.13,>=2.12.0 in /usr/local/lib/python3.10/dist-packages (from tensorflow) (2.12.0)\n",
            "Requirement already satisfied: libclang>=13.0.0 in /usr/local/lib/python3.10/dist-packages (from tensorflow) (16.0.0)\n",
            "Requirement already satisfied: numpy<1.24,>=1.22 in /usr/local/lib/python3.10/dist-packages (from tensorflow) (1.22.4)\n",
            "Requirement already satisfied: opt-einsum>=2.3.2 in /usr/local/lib/python3.10/dist-packages (from tensorflow) (3.3.0)\n",
            "Requirement already satisfied: packaging in /usr/local/lib/python3.10/dist-packages (from tensorflow) (23.1)\n",
            "Requirement already satisfied: protobuf!=4.21.0,!=4.21.1,!=4.21.2,!=4.21.3,!=4.21.4,!=4.21.5,<5.0.0dev,>=3.20.3 in /usr/local/lib/python3.10/dist-packages (from tensorflow) (3.20.3)\n",
            "Requirement already satisfied: setuptools in /usr/local/lib/python3.10/dist-packages (from tensorflow) (67.7.2)\n",
            "Requirement already satisfied: six>=1.12.0 in /usr/local/lib/python3.10/dist-packages (from tensorflow) (1.16.0)\n",
            "Requirement already satisfied: tensorboard<2.13,>=2.12 in /usr/local/lib/python3.10/dist-packages (from tensorflow) (2.12.2)\n",
            "Requirement already satisfied: tensorflow-estimator<2.13,>=2.12.0 in /usr/local/lib/python3.10/dist-packages (from tensorflow) (2.12.0)\n",
            "Requirement already satisfied: termcolor>=1.1.0 in /usr/local/lib/python3.10/dist-packages (from tensorflow) (2.3.0)\n",
            "Requirement already satisfied: typing-extensions>=3.6.6 in /usr/local/lib/python3.10/dist-packages (from tensorflow) (4.5.0)\n",
            "Requirement already satisfied: wrapt<1.15,>=1.11.0 in /usr/local/lib/python3.10/dist-packages (from tensorflow) (1.14.1)\n",
            "Requirement already satisfied: tensorflow-io-gcs-filesystem>=0.23.1 in /usr/local/lib/python3.10/dist-packages (from tensorflow) (0.32.0)\n",
            "Requirement already satisfied: wheel<1.0,>=0.23.0 in /usr/local/lib/python3.10/dist-packages (from astunparse>=1.6.0->tensorflow) (0.40.0)\n",
            "Requirement already satisfied: ml-dtypes>=0.1.0 in /usr/local/lib/python3.10/dist-packages (from jax>=0.3.15->tensorflow) (0.1.0)\n",
            "Requirement already satisfied: scipy>=1.7 in /usr/local/lib/python3.10/dist-packages (from jax>=0.3.15->tensorflow) (1.10.1)\n",
            "Requirement already satisfied: google-auth<3,>=1.6.3 in /usr/local/lib/python3.10/dist-packages (from tensorboard<2.13,>=2.12->tensorflow) (2.17.3)\n",
            "Requirement already satisfied: google-auth-oauthlib<1.1,>=0.5 in /usr/local/lib/python3.10/dist-packages (from tensorboard<2.13,>=2.12->tensorflow) (1.0.0)\n",
            "Requirement already satisfied: markdown>=2.6.8 in /usr/local/lib/python3.10/dist-packages (from tensorboard<2.13,>=2.12->tensorflow) (3.4.3)\n",
            "Requirement already satisfied: requests<3,>=2.21.0 in /usr/local/lib/python3.10/dist-packages (from tensorboard<2.13,>=2.12->tensorflow) (2.27.1)\n",
            "Requirement already satisfied: tensorboard-data-server<0.8.0,>=0.7.0 in /usr/local/lib/python3.10/dist-packages (from tensorboard<2.13,>=2.12->tensorflow) (0.7.0)\n",
            "Requirement already satisfied: tensorboard-plugin-wit>=1.6.0 in /usr/local/lib/python3.10/dist-packages (from tensorboard<2.13,>=2.12->tensorflow) (1.8.1)\n",
            "Requirement already satisfied: werkzeug>=1.0.1 in /usr/local/lib/python3.10/dist-packages (from tensorboard<2.13,>=2.12->tensorflow) (2.3.0)\n",
            "Requirement already satisfied: cachetools<6.0,>=2.0.0 in /usr/local/lib/python3.10/dist-packages (from google-auth<3,>=1.6.3->tensorboard<2.13,>=2.12->tensorflow) (5.3.0)\n",
            "Requirement already satisfied: pyasn1-modules>=0.2.1 in /usr/local/lib/python3.10/dist-packages (from google-auth<3,>=1.6.3->tensorboard<2.13,>=2.12->tensorflow) (0.3.0)\n",
            "Requirement already satisfied: rsa<5,>=3.1.4 in /usr/local/lib/python3.10/dist-packages (from google-auth<3,>=1.6.3->tensorboard<2.13,>=2.12->tensorflow) (4.9)\n",
            "Requirement already satisfied: requests-oauthlib>=0.7.0 in /usr/local/lib/python3.10/dist-packages (from google-auth-oauthlib<1.1,>=0.5->tensorboard<2.13,>=2.12->tensorflow) (1.3.1)\n",
            "Requirement already satisfied: urllib3<1.27,>=1.21.1 in /usr/local/lib/python3.10/dist-packages (from requests<3,>=2.21.0->tensorboard<2.13,>=2.12->tensorflow) (1.26.15)\n",
            "Requirement already satisfied: certifi>=2017.4.17 in /usr/local/lib/python3.10/dist-packages (from requests<3,>=2.21.0->tensorboard<2.13,>=2.12->tensorflow) (2022.12.7)\n",
            "Requirement already satisfied: charset-normalizer~=2.0.0 in /usr/local/lib/python3.10/dist-packages (from requests<3,>=2.21.0->tensorboard<2.13,>=2.12->tensorflow) (2.0.12)\n",
            "Requirement already satisfied: idna<4,>=2.5 in /usr/local/lib/python3.10/dist-packages (from requests<3,>=2.21.0->tensorboard<2.13,>=2.12->tensorflow) (3.4)\n",
            "Requirement already satisfied: MarkupSafe>=2.1.1 in /usr/local/lib/python3.10/dist-packages (from werkzeug>=1.0.1->tensorboard<2.13,>=2.12->tensorflow) (2.1.2)\n",
            "Requirement already satisfied: pyasn1<0.6.0,>=0.4.6 in /usr/local/lib/python3.10/dist-packages (from pyasn1-modules>=0.2.1->google-auth<3,>=1.6.3->tensorboard<2.13,>=2.12->tensorflow) (0.5.0)\n",
            "Requirement already satisfied: oauthlib>=3.0.0 in /usr/local/lib/python3.10/dist-packages (from requests-oauthlib>=0.7.0->google-auth-oauthlib<1.1,>=0.5->tensorboard<2.13,>=2.12->tensorflow) (3.2.2)\n"
          ]
        }
      ]
    },
    {
      "cell_type": "markdown",
      "metadata": {
        "id": "CwO4L4xEYGpa"
      },
      "source": [
        "Tes Akurasi dan Loss"
      ]
    },
    {
      "cell_type": "code",
      "execution_count": null,
      "metadata": {
        "id": "jXkrvAJKbUlB"
      },
      "outputs": [],
      "source": []
    },
    {
      "cell_type": "code",
      "execution_count": null,
      "metadata": {
        "id": "Cfti4GoElB88",
        "colab": {
          "base_uri": "https://localhost:8080/"
        },
        "outputId": "282a3289-c011-405b-da76-fdfba3b44c9f"
      },
      "outputs": [
        {
          "output_type": "stream",
          "name": "stdout",
          "text": [
            "13/13 [==============================] - 1s 61ms/step - loss: 0.3350 - accuracy: 0.8775\n",
            "Test Loss: 0.335020512342453\n",
            "Test Accuracy: 0.8774999976158142\n"
          ]
        }
      ],
      "source": [
        "test_loss, test_accuracy = model.evaluate(validation_generator)\n",
        "print(\"Test Loss:\", test_loss)\n",
        "print(\"Test Accuracy:\", test_accuracy)"
      ]
    },
    {
      "cell_type": "markdown",
      "metadata": {
        "id": "sXsVcnWJYRMd"
      },
      "source": [
        "Run code below to show accuracy plot"
      ]
    },
    {
      "cell_type": "code",
      "execution_count": null,
      "metadata": {
        "id": "fB_HrwpXfbos",
        "colab": {
          "base_uri": "https://localhost:8080/",
          "height": 449
        },
        "outputId": "b2b76467-7270-4ae5-e17b-c2768680bf4e"
      },
      "outputs": [
        {
          "output_type": "display_data",
          "data": {
            "text/plain": [
              "<Figure size 640x480 with 1 Axes>"
            ],
            "image/png": "[encoded data removed]"
          },
          "metadata": {}
        }
      ],
      "source": [
        "import matplotlib.pyplot as plt\n",
        "import numpy as np\n",
        "\n",
        "plt.plot(np.arange(26), history.history['accuracy'])\n",
        "plt.plot(np.arange(26), history.history['val_accuracy'])\n",
        "plt.legend(['accuracy', 'val_accuracy'])\n",
        "plt.xlabel('Epochs')\n",
        "plt.ylabel('Accuracy')\n",
        "plt.show()\n"
      ]
    },
    {
      "cell_type": "markdown",
      "metadata": {
        "id": "Kqh1oeZcF9vP"
      },
      "source": [
        "# Predict image using the model"
      ]
    },
    {
      "cell_type": "markdown",
      "source": [],
      "metadata": {
        "id": "L95BaiBRlZ9I"
      }
    },
    {
      "cell_type": "markdown",
      "metadata": {
        "id": "hQkwLlyFF8d1"
      },
      "source": [
        "# Save the Trained Model"
      ]
    },
    {
      "cell_type": "code",
      "execution_count": null,
      "metadata": {
        "id": "GW8PLovbF9GV",
        "colab": {
          "base_uri": "https://localhost:8080/",
          "height": 34
        },
        "outputId": "e0d79e2e-ee57-43a2-a700-b180143b850e"
      },
      "outputs": [
        {
          "output_type": "display_data",
          "data": {
            "text/plain": [
              "<IPython.core.display.Javascript object>"
            ],
            "application/javascript": [
              "\n",
              "    async function download(id, filename, size) {\n",
              "      if (!google.colab.kernel.accessAllowed) {\n",
              "        return;\n",
              "      }\n",
              "      const div = document.createElement('div');\n",
              "      const label = document.createElement('label');\n",
              "      label.textContent = `Downloading \"${filename}\": `;\n",
              "      div.appendChild(label);\n",
              "      const progress = document.createElement('progress');\n",
              "      progress.max = size;\n",
              "      div.appendChild(progress);\n",
              "      document.body.appendChild(div);\n",
              "\n",
              "      const buffers = [];\n",
              "      let downloaded = 0;\n",
              "\n",
              "      const channel = await google.colab.kernel.comms.open(id);\n",
              "      // Send a message to notify the kernel that we're ready.\n",
              "      channel.send({})\n",
              "\n",
              "      for await (const message of channel.messages) {\n",
              "        // Send a message to notify the kernel that we're ready.\n",
              "        channel.send({})\n",
              "        if (message.buffers) {\n",
              "          for (const buffer of message.buffers) {\n",
              "            buffers.push(buffer);\n",
              "            downloaded += buffer.byteLength;\n",
              "            progress.value = downloaded;\n",
              "          }\n",
              "        }\n",
              "      }\n",
              "      const blob = new Blob(buffers, {type: 'application/binary'});\n",
              "      const a = document.createElement('a');\n",
              "      a.href = window.URL.createObjectURL(blob);\n",
              "      a.download = filename;\n",
              "      div.appendChild(a);\n",
              "      a.click();\n",
              "      div.remove();\n",
              "    }\n",
              "  "
            ]
          },
          "metadata": {}
        },
        {
          "output_type": "display_data",
          "data": {
            "text/plain": [
              "<IPython.core.display.Javascript object>"
            ],
            "application/javascript": [
              "download(\"download_b7aedb96-a806-441f-8935-17889c823d05\", \"model_chili.h5\", 421066280)"
            ]
          },
          "metadata": {}
        }
      ],
      "source": [
        "from google.colab import files\n",
        "saved_model_path = \"./model_chili.h5\"\n",
        "model.save(saved_model_path)\n",
        "files.download(saved_model_path)"
      ]
    },
    {
      "cell_type": "code",
      "execution_count": null,
      "metadata": {
        "id": "WYGEX2RrhXGj"
      },
      "outputs": [],
      "source": [
        "!cp '/content/my_model_rice90.h5' '/content/drive/MyDrive/Colab/Model'"
      ]
    },
    {
      "cell_type": "code",
      "execution_count": null,
      "metadata": {
        "id": "aQsBVHn8FQVe"
      },
      "outputs": [],
      "source": [
        "!cp '/content/model_rice_new.json' '/content/drive/MyDrive/Colab/Model'"
      ]
    },
    {
      "cell_type": "markdown",
      "metadata": {
        "id": "AjkzCbgryJeZ"
      },
      "source": [
        "Save Model to Json"
      ]
    },
    {
      "cell_type": "code",
      "execution_count": null,
      "metadata": {
        "id": "R_s-V-l-yTl4",
        "colab": {
          "base_uri": "https://localhost:8080/",
          "height": 17
        },
        "outputId": "a8ca1e2b-2f99-4676-becb-0018531e0ca0"
      },
      "outputs": [
        {
          "output_type": "display_data",
          "data": {
            "text/plain": [
              "<IPython.core.display.Javascript object>"
            ],
            "application/javascript": [
              "\n",
              "    async function download(id, filename, size) {\n",
              "      if (!google.colab.kernel.accessAllowed) {\n",
              "        return;\n",
              "      }\n",
              "      const div = document.createElement('div');\n",
              "      const label = document.createElement('label');\n",
              "      label.textContent = `Downloading \"${filename}\": `;\n",
              "      div.appendChild(label);\n",
              "      const progress = document.createElement('progress');\n",
              "      progress.max = size;\n",
              "      div.appendChild(progress);\n",
              "      document.body.appendChild(div);\n",
              "\n",
              "      const buffers = [];\n",
              "      let downloaded = 0;\n",
              "\n",
              "      const channel = await google.colab.kernel.comms.open(id);\n",
              "      // Send a message to notify the kernel that we're ready.\n",
              "      channel.send({})\n",
              "\n",
              "      for await (const message of channel.messages) {\n",
              "        // Send a message to notify the kernel that we're ready.\n",
              "        channel.send({})\n",
              "        if (message.buffers) {\n",
              "          for (const buffer of message.buffers) {\n",
              "            buffers.push(buffer);\n",
              "            downloaded += buffer.byteLength;\n",
              "            progress.value = downloaded;\n",
              "          }\n",
              "        }\n",
              "      }\n",
              "      const blob = new Blob(buffers, {type: 'application/binary'});\n",
              "      const a = document.createElement('a');\n",
              "      a.href = window.URL.createObjectURL(blob);\n",
              "      a.download = filename;\n",
              "      div.appendChild(a);\n",
              "      a.click();\n",
              "      div.remove();\n",
              "    }\n",
              "  "
            ]
          },
          "metadata": {}
        },
        {
          "output_type": "display_data",
          "data": {
            "text/plain": [
              "<IPython.core.display.Javascript object>"
            ],
            "application/javascript": [
              "download(\"download_62e83d69-eea2-4873-8ec0-3533164ca01c\", \"model_chili.json\", 4889)"
            ]
          },
          "metadata": {}
        }
      ],
      "source": [
        "from tensorflow.keras.models import load_model\n",
        "from google.colab import files\n",
        "\n",
        "# Load the saved model\n",
        "saved_model_path = \"./model_chili.h5\"\n",
        "model = load_model(saved_model_path)\n",
        "\n",
        "# Convert the model to JSON format\n",
        "json_model = model.to_json()\n",
        "\n",
        "# Save the JSON model to a file\n",
        "json_model_path = \"./model_chili.json\"\n",
        "with open(json_model_path, \"w\") as json_file:\n",
        "    json_file.write(json_model)\n",
        "\n",
        "# Download the JSON model file\n",
        "files.download(json_model_path)\n"
      ]
    },
    {
      "cell_type": "markdown",
      "metadata": {
        "id": "PAEy54QhVGkJ"
      },
      "source": [
        "Save to TensorFlow Lite"
      ]
    },
    {
      "cell_type": "code",
      "execution_count": null,
      "metadata": {
        "id": "L6MFp6-gVTua",
        "colab": {
          "base_uri": "https://localhost:8080/",
          "height": 72
        },
        "outputId": "978918c5-c394-4289-e146-b1f21bafe279"
      },
      "outputs": [
        {
          "output_type": "stream",
          "name": "stderr",
          "text": [
            "WARNING:absl:Found untraced functions such as _jit_compiled_convolution_op, _jit_compiled_convolution_op, _jit_compiled_convolution_op, _update_step_xla while saving (showing 4 of 4). These functions will not be directly callable after loading.\n"
          ]
        },
        {
          "output_type": "display_data",
          "data": {
            "text/plain": [
              "<IPython.core.display.Javascript object>"
            ],
            "application/javascript": [
              "\n",
              "    async function download(id, filename, size) {\n",
              "      if (!google.colab.kernel.accessAllowed) {\n",
              "        return;\n",
              "      }\n",
              "      const div = document.createElement('div');\n",
              "      const label = document.createElement('label');\n",
              "      label.textContent = `Downloading \"${filename}\": `;\n",
              "      div.appendChild(label);\n",
              "      const progress = document.createElement('progress');\n",
              "      progress.max = size;\n",
              "      div.appendChild(progress);\n",
              "      document.body.appendChild(div);\n",
              "\n",
              "      const buffers = [];\n",
              "      let downloaded = 0;\n",
              "\n",
              "      const channel = await google.colab.kernel.comms.open(id);\n",
              "      // Send a message to notify the kernel that we're ready.\n",
              "      channel.send({})\n",
              "\n",
              "      for await (const message of channel.messages) {\n",
              "        // Send a message to notify the kernel that we're ready.\n",
              "        channel.send({})\n",
              "        if (message.buffers) {\n",
              "          for (const buffer of message.buffers) {\n",
              "            buffers.push(buffer);\n",
              "            downloaded += buffer.byteLength;\n",
              "            progress.value = downloaded;\n",
              "          }\n",
              "        }\n",
              "      }\n",
              "      const blob = new Blob(buffers, {type: 'application/binary'});\n",
              "      const a = document.createElement('a');\n",
              "      a.href = window.URL.createObjectURL(blob);\n",
              "      a.download = filename;\n",
              "      div.appendChild(a);\n",
              "      a.click();\n",
              "      div.remove();\n",
              "    }\n",
              "  "
            ]
          },
          "metadata": {}
        },
        {
          "output_type": "display_data",
          "data": {
            "text/plain": [
              "<IPython.core.display.Javascript object>"
            ],
            "application/javascript": [
              "download(\"download_8922b83b-c2b0-47ba-bcd3-6e7c7f664d89\", \"model_chili.tflite\", 140337540)"
            ]
          },
          "metadata": {}
        }
      ],
      "source": [
        "import tensorflow as tf\n",
        "from tensorflow.keras.models import load_model\n",
        "from google.colab import files\n",
        "\n",
        "\n",
        "saved_model_path = \"./model_chili.h5\"\n",
        "model = load_model(saved_model_path)\n",
        "\n",
        "\n",
        "converter = tf.lite.TFLiteConverter.from_keras_model(model)\n",
        "tflite_model = converter.convert()\n",
        "\n",
        "\n",
        "tflite_model_path = \"./model_chili.tflite\"\n",
        "with open(tflite_model_path, \"wb\") as tflite_file:\n",
        "    tflite_file.write(tflite_model)\n",
        "\n",
        "files.download(tflite_model_path)\n"
      ]
    },
    {
      "cell_type": "code",
      "execution_count": null,
      "metadata": {
        "id": "qtl5TFXXVvBG"
      },
      "outputs": [],
      "source": [
        "converter=tf.lite.TFLiteConverter.from_keras_model(model)\n",
        "tflite_model=converter.convert"
      ]
    },
    {
      "cell_type": "code",
      "execution_count": null,
      "metadata": {
        "id": "gkxW1wODV_Yq"
      },
      "outputs": [],
      "source": [
        "with open (\"model.tflite\",\"wb\") as tflite_file:\n",
        "     tflite_file.write(converter)"
      ]
    },
    {
      "cell_type": "code",
      "execution_count": null,
      "metadata": {
        "id": "aEHplcLcVoOZ"
      },
      "outputs": [],
      "source": [
        "import os\n",
        "from PIL import Image\n",
        "\n",
        "folder_path = '/content/dataset/DATASET/Val'\n",
        "\n",
        "def check_images(folder_path):\n",
        "    for root, dirs, files in os.walk(folder_path):\n",
        "        for file in files:\n",
        "            file_path = os.path.join(root, file)\n",
        "            try:\n",
        "                img = Image.open(file_path)\n",
        "                img.verify()  # Verifikasi gambar\n",
        "            except (IOError, SyntaxError) as e:\n",
        "                print(\"File rusak:\", file_path)\n",
        "\n",
        "check_images(folder_path)\n"
      ]
    }
  ],
  "metadata": {
    "accelerator": "GPU",
    "colab": {
      "provenance": [],
      "include_colab_link": true
    },
    "kernelspec": {
      "display_name": "Python 3",
      "name": "python3"
    },
    "language_info": {
      "name": "python"
    }
  },
  "nbformat": 4,
  "nbformat_minor": 0
}