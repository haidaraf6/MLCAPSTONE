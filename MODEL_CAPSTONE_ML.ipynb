{
  "cells": [
    {
      "cell_type": "markdown",
      "metadata": {
        "id": "view-in-github",
        "colab_type": "text"
      },
      "source": [
        "<a href=\"https://colab.research.google.com/github/haidaraf6/MLCAPSTONE/blob/main/Copy_of_MODEL_CAPSTONE_ML_Custom.ipynb\" target=\"_parent\"><img src=\"https://colab.research.google.com/assets/colab-badge.svg\" alt=\"Open In Colab\"/></a>"
      ]
    },
    {
      "cell_type": "code",
      "execution_count": null,
      "metadata": {
        "id": "JM3xIcAF03ov"
      },
      "outputs": [],
      "source": [
        "import tensorflow as tf\n",
        "import os\n",
        "import zipfile\n",
        "import tensorflow_datasets as tfds\n"
      ]
    },
    {
      "cell_type": "markdown",
      "metadata": {
        "id": "YCWi3WGzLRRw"
      },
      "source": [
        "# Prepare the Dataset"
      ]
    },
    {
      "cell_type": "code",
      "execution_count": null,
      "metadata": {
        "colab": {
          "base_uri": "https://localhost:8080/"
        },
        "id": "QDRqvUYUEzFw",
        "outputId": "2028664a-4713-4f68-9972-3e329d8c8263"
      },
      "outputs": [
        {
          "name": "stdout",
          "output_type": "stream",
          "text": [
            "Mounted at /content/drive\n"
          ]
        }
      ],
      "source": [
        "from google.colab import drive\n",
        "drive.mount('/content/drive')"
      ]
    },
    {
      "cell_type": "code",
      "execution_count": null,
      "metadata": {
        "id": "wKjOisC_E4cG"
      },
      "outputs": [],
      "source": [
        "!unzip '/content/drive/MyDrive/Colab/dataset.zip'"
      ]
    },
    {
      "cell_type": "code",
      "execution_count": null,
      "metadata": {
        "id": "v9MsKDHn3Wxb"
      },
      "outputs": [],
      "source": [
        "!unrar x -Y \"/content/drive/MyDrive/Colab/Rice Dataset.rar\" \"/content/dataset/\""
      ]
    },
    {
      "cell_type": "code",
      "execution_count": null,
      "metadata": {
        "id": "azikHpwN3vZY"
      },
      "outputs": [],
      "source": [
        "import zipfile\n",
        "\n",
        "file_dataset = '/content/drive/MyDrive/Colab/dataset_capstone.zip'\n",
        "zipdata = zipfile.ZipFile(file_dataset, 'r')\n",
        "zipdata.extractall('dataset')\n",
        "zipdata.close()\n"
      ]
    },
    {
      "cell_type": "markdown",
      "metadata": {
        "id": "6K3ImY-XLJ3K"
      },
      "source": [
        "# Model Build"
      ]
    },
    {
      "cell_type": "code",
      "execution_count": null,
      "metadata": {
        "colab": {
          "base_uri": "https://localhost:8080/"
        },
        "id": "UT2dhWIf3vur",
        "outputId": "dad4b7f2-aab3-4d90-d936-322cb80ae6dd"
      },
      "outputs": [
        {
          "name": "stdout",
          "output_type": "stream",
          "text": [
            "Model: \"sequential\"\n",
            "_________________________________________________________________\n",
            " Layer (type)                Output Shape              Param #   \n",
            "=================================================================\n",
            " conv2d (Conv2D)             (None, 198, 198, 64)      1792      \n",
            "                                                                 \n",
            " max_pooling2d (MaxPooling2D  (None, 99, 99, 64)       0         \n",
            " )                                                               \n",
            "                                                                 \n",
            " conv2d_1 (Conv2D)           (None, 97, 97, 128)       73856     \n",
            "                                                                 \n",
            " max_pooling2d_1 (MaxPooling  (None, 48, 48, 128)      0         \n",
            " 2D)                                                             \n",
            "                                                                 \n",
            " conv2d_2 (Conv2D)           (None, 46, 46, 256)       295168    \n",
            "                                                                 \n",
            " max_pooling2d_2 (MaxPooling  (None, 23, 23, 256)      0         \n",
            " 2D)                                                             \n",
            "                                                                 \n",
            " flatten (Flatten)           (None, 135424)            0         \n",
            "                                                                 \n",
            " dense (Dense)               (None, 128)               17334400  \n",
            "                                                                 \n",
            " dropout (Dropout)           (None, 128)               0         \n",
            "                                                                 \n",
            " dense_1 (Dense)             (None, 64)                8256      \n",
            "                                                                 \n",
            " dense_2 (Dense)             (None, 32)                2080      \n",
            "                                                                 \n",
            " dense_3 (Dense)             (None, 22)                726       \n",
            "                                                                 \n",
            "=================================================================\n",
            "Total params: 17,716,278\n",
            "Trainable params: 17,716,278\n",
            "Non-trainable params: 0\n",
            "_________________________________________________________________\n"
          ]
        }
      ],
      "source": [
        "import tensorflow as tf\n",
        "from tensorflow.keras.layers import Conv2D, Dense, PReLU, MaxPooling2D, Flatten, Dropout, BatchNormalization\n",
        "from tensorflow.keras.models import Sequential\n",
        "from tensorflow.keras.optimizers import Adam\n",
        "\n",
        "model = Sequential()\n",
        "model.add(Conv2D(64, (3, 3), activation='relu', input_shape=(200, 200, 3)))\n",
        "model.add(MaxPooling2D(2, 2))\n",
        "model.add(Conv2D(128, (3, 3), activation='relu'))\n",
        "model.add(MaxPooling2D(2, 2))\n",
        "model.add(Conv2D(256, (3, 3), activation='relu'))\n",
        "model.add(MaxPooling2D(2, 2))\n",
        "model.add(Flatten())\n",
        "model.add(Dense(128, activation='relu'))\n",
        "model.add(Dropout(0.5))\n",
        "model.add(Dense(64, activation='relu'))\n",
        "model.add(Dense(32, activation='relu'))\n",
        "model.add(Dense(22, activation='softmax'))\n",
        "\n",
        "model.summary()\n"
      ]
    },
    {
      "cell_type": "code",
      "execution_count": null,
      "metadata": {
        "id": "FhkN92sW4DPY"
      },
      "outputs": [],
      "source": [
        "optimizer = tf.keras.optimizers.Adam(learning_rate=0.001)\n",
        "model.compile(optimizer=optimizer, loss='categorical_crossentropy', metrics=['accuracy'])"
      ]
    },
    {
      "cell_type": "markdown",
      "metadata": {
        "id": "f_6s9iSpK25x"
      },
      "source": [
        "# Data Augmentation\n",
        "*The settings can be changed later*\n"
      ]
    },
    {
      "cell_type": "code",
      "execution_count": null,
      "metadata": {
        "colab": {
          "base_uri": "https://localhost:8080/"
        },
        "id": "MTOZUZHeK2d0",
        "outputId": "8728ca1f-c090-4afd-b2da-f75a2fd6f7c5"
      },
      "outputs": [
        {
          "name": "stdout",
          "output_type": "stream",
          "text": [
            "Found 28347 images belonging to 22 classes.\n",
            "Found 7261 images belonging to 22 classes.\n"
          ]
        }
      ],
      "source": [
        "from keras.preprocessing.image import ImageDataGenerator\n",
        "\n",
        "TRAINING_DIR = '/content/dataset/DATASET/Train'\n",
        "training_datagen = ImageDataGenerator(\n",
        "    rescale=1./255,\n",
        "    rotation_range=40,\n",
        "    width_shift_range=0.2,\n",
        "    height_shift_range=0.2,\n",
        "    shear_range=0.2,\n",
        "    zoom_range=0.2,\n",
        "    horizontal_flip=True,\n",
        "    fill_mode='nearest'\n",
        ")\n",
        "\n",
        "VALIDATION_DIR = '/content/dataset/DATASET/Val'\n",
        "validation_datagen = ImageDataGenerator(rescale=1./255)\n",
        "\n",
        "train_generator = training_datagen.flow_from_directory(\n",
        "    TRAINING_DIR,\n",
        "    target_size=(200, 200),\n",
        "    class_mode='categorical',\n",
        "    batch_size=32\n",
        ")\n",
        "\n",
        "validation_generator = validation_datagen.flow_from_directory(\n",
        "    VALIDATION_DIR,\n",
        "    target_size=(200, 200),\n",
        "    class_mode='categorical',\n",
        "    batch_size=32\n",
        ")\n"
      ]
    },
    {
      "cell_type": "code",
      "execution_count": null,
      "metadata": {
        "id": "r1AFQSmok_Cf"
      },
      "outputs": [],
      "source": []
    },
    {
      "cell_type": "code",
      "execution_count": null,
      "metadata": {
        "id": "LLh_jLPfEgRU"
      },
      "outputs": [],
      "source": [
        "from google.colab import files\n",
        "\n",
        "model.save('model.h5')\n",
        "files.download('model.h5')"
      ]
    },
    {
      "cell_type": "code",
      "execution_count": null,
      "metadata": {
        "id": "XVjBIfKWoyKM"
      },
      "outputs": [],
      "source": [
        "model_h5 = '/content/drive/MyDrive/Colab/Model/my_model_rice_new.h5'\n",
        "model=tf.keras.models.load_model(model_h5)"
      ]
    },
    {
      "cell_type": "code",
      "execution_count": null,
      "metadata": {
        "id": "RjDln84wBzmB"
      },
      "outputs": [],
      "source": [
        "from tensorflow.keras.callbacks import ModelCheckpoint\n",
        "\n",
        "checkpoint=ModelCheckpoint(\"model.h5\",\n",
        "                           monitor='val_accuracy',\n",
        "                           verbose=1,\n",
        "                           save_base_only=True,\n",
        "                           mode='max')\n"
      ]
    },
    {
      "cell_type": "code",
      "execution_count": null,
      "metadata": {
        "id": "amEuhffwccgp"
      },
      "outputs": [],
      "source": [
        "class myCallback(tf.keras.callbacks.Callback):\n",
        "  def on_epoch_end(self, epoch, logs=None):\n",
        "      if logs['val_accuracy'] > 0.90:\n",
        "        if logs['val_loss'] < 0.50:\n",
        "          self.model.stop_training = True\n",
        "\n",
        "myCallback = myCallback()"
      ]
    },
    {
      "cell_type": "markdown",
      "metadata": {
        "id": "OR3_DH0tLY1w"
      },
      "source": [
        "# Train the Model"
      ]
    },
    {
      "cell_type": "code",
      "execution_count": null,
      "metadata": {
        "colab": {
          "background_save": true,
          "base_uri": "https://localhost:8080/"
        },
        "id": "COJvrmkBLYSr",
        "outputId": "642edc8f-1e6a-4ca6-c05d-28a49988d551"
      },
      "outputs": [
        {
          "name": "stdout",
          "output_type": "stream",
          "text": [
            "Epoch 1/100\n",
            "606/886 [===================>..........] - ETA: 41:29 - loss: 2.4055 - accuracy: 0.1622"
          ]
        }
      ],
      "source": [
        "history = model.fit(train_generator, epochs=100, validation_data=validation_generator, callbacks=[myCallback, checkpoint])"
      ]
    },
    {
      "cell_type": "markdown",
      "metadata": {
        "id": "CwO4L4xEYGpa"
      },
      "source": [
        "Tes Akurasi dan Loss"
      ]
    },
    {
      "cell_type": "code",
      "execution_count": null,
      "metadata": {
        "id": "jXkrvAJKbUlB"
      },
      "outputs": [],
      "source": []
    },
    {
      "cell_type": "code",
      "execution_count": null,
      "metadata": {
        "id": "Cfti4GoElB88"
      },
      "outputs": [],
      "source": [
        "test_loss, test_accuracy = model.evaluate(validation_generator)\n",
        "print(\"Test Loss:\", test_loss)\n",
        "print(\"Test Accuracy:\", test_accuracy)"
      ]
    },
    {
      "cell_type": "markdown",
      "metadata": {
        "id": "sXsVcnWJYRMd"
      },
      "source": [
        "Run code below to show accuracy plot"
      ]
    },
    {
      "cell_type": "code",
      "execution_count": null,
      "metadata": {
        "id": "fB_HrwpXfbos"
      },
      "outputs": [],
      "source": [
        "import matplotlib.pyplot as plt\n",
        "import numpy as np\n",
        "\n",
        "plt.plot(np.arange(20), history.history['accuracy'])\n",
        "plt.plot(np.arange(20), history.history['val_accuracy'])\n",
        "plt.legend(['accuracy', 'val_accuracy'])\n",
        "plt.xlabel('Epochs')\n",
        "plt.ylabel('Accuracy')\n",
        "plt.show()\n"
      ]
    },
    {
      "cell_type": "markdown",
      "metadata": {
        "id": "Kqh1oeZcF9vP"
      },
      "source": [
        "# Predict image using the model"
      ]
    },
    {
      "cell_type": "code",
      "execution_count": null,
      "metadata": {
        "id": "N9sjZ9GIF98l"
      },
      "outputs": [],
      "source": [
        "import numpy as np\n",
        "from google.colab import files\n",
        "from tensorflow.keras.utils import load_img, img_to_array\n",
        "\n",
        "uploaded = files.upload()\n",
        "\n",
        "for fn in uploaded.keys():\n",
        "  # Memprediksi gambar\n",
        "  path = fn\n",
        "  img = load_img(path, target_size=(200, 200))\n",
        "  x = img_to_array(img)\n",
        "  x = np.expand_dims(x, axis=0)\n",
        "\n",
        "  images = np.vstack([x])\n",
        "  classes = model.predict(images, batch_size=100)\n",
        "  \n",
        "  # Mendapatkan indeks kelas dengan probabilitas tertinggi\n",
        "  predicted_class_index = np.argmax(classes, axis=1)[0]\n",
        "  \n",
        "  # Daftar nama kelas yang sesuai dengan indeks kelas\n",
        "  class_names = [\"Rice Bacterial Leaf Blight\", \"Rice Brown Spot\", \"Rice Healthy\", \"Rice leaf blast\", \"Rice Leaf Scald\", \"Rice Narrow Brown Spot\"] \n",
        "\n",
        "  # Mendapatkan string klasifikasi berdasarkan indeks kelas\n",
        "  predicted_class = class_names[predicted_class_index]\n",
        "  print(classes)\n",
        "  print(fn)\n",
        "  print(\"Hasil klasifikasi:\", predicted_class)\n"
      ]
    },
    {
      "cell_type": "code",
      "execution_count": null,
      "metadata": {
        "id": "mq2Whz6Be7yl"
      },
      "outputs": [],
      "source": [
        "import numpy as np\n",
        "from google.colab import files\n",
        "from tensorflow.keras.utils import load_img, img_to_array\n",
        "img = load_img('/content/rice3-1.jpg', target_size=(200, 200))\n",
        "img = np.expand_dims(img, axis=0)\n",
        "#images = np.vstack([img])\n",
        "model.predict(img)"
      ]
    },
    {
      "cell_type": "markdown",
      "metadata": {
        "id": "hQkwLlyFF8d1"
      },
      "source": [
        "# Save the Trained Model"
      ]
    },
    {
      "cell_type": "code",
      "execution_count": null,
      "metadata": {
        "id": "GW8PLovbF9GV"
      },
      "outputs": [],
      "source": [
        "#Save the trained model as a Keras HDF5 file. \n",
        "saved_model_path = \"./my_model.h5\"\n",
        "model.save(saved_model_path)"
      ]
    },
    {
      "cell_type": "code",
      "execution_count": null,
      "metadata": {
        "id": "WYGEX2RrhXGj"
      },
      "outputs": [],
      "source": [
        "!cp '/content/my_model_rice90.h5' '/content/drive/MyDrive/Colab/Model'"
      ]
    },
    {
      "cell_type": "code",
      "execution_count": null,
      "metadata": {
        "id": "aQsBVHn8FQVe"
      },
      "outputs": [],
      "source": [
        "!cp '/content/model_rice_new.json' '/content/drive/MyDrive/Colab/Model'"
      ]
    },
    {
      "cell_type": "markdown",
      "metadata": {
        "id": "AjkzCbgryJeZ"
      },
      "source": [
        "Save Model to Json"
      ]
    },
    {
      "cell_type": "code",
      "execution_count": null,
      "metadata": {
        "id": "R_s-V-l-yTl4"
      },
      "outputs": [],
      "source": [
        "model_json = model.to_json()\n",
        "with open(\"model.json\", \"w\") as json_file:\n",
        "    json_file.write(model_json)"
      ]
    },
    {
      "cell_type": "markdown",
      "metadata": {
        "id": "PAEy54QhVGkJ"
      },
      "source": [
        "Save to TensorFlow Lite"
      ]
    },
    {
      "cell_type": "code",
      "execution_count": null,
      "metadata": {
        "id": "L6MFp6-gVTua"
      },
      "outputs": [],
      "source": [
        "model=tf.keras.models.load_model(\"model.h5\")"
      ]
    },
    {
      "cell_type": "code",
      "execution_count": null,
      "metadata": {
        "id": "qtl5TFXXVvBG"
      },
      "outputs": [],
      "source": [
        "converter=tf.lite.TFLiteConverter.from_keras_model(model)\n",
        "tflite_model=converter.convert"
      ]
    },
    {
      "cell_type": "code",
      "execution_count": null,
      "metadata": {
        "id": "gkxW1wODV_Yq"
      },
      "outputs": [],
      "source": [
        "with open (\"model.tflite\",\"wb\") as tflite_file:\n",
        "     tflite_file.write(converter)"
      ]
    },
    {
      "cell_type": "code",
      "execution_count": null,
      "metadata": {
        "id": "aEHplcLcVoOZ"
      },
      "outputs": [],
      "source": [
        "import os\n",
        "from PIL import Image\n",
        "\n",
        "folder_path = '/content/dataset/DATASET/Val'\n",
        "\n",
        "def check_images(folder_path):\n",
        "    for root, dirs, files in os.walk(folder_path):\n",
        "        for file in files:\n",
        "            file_path = os.path.join(root, file)\n",
        "            try:\n",
        "                img = Image.open(file_path)\n",
        "                img.verify()  # Verifikasi gambar\n",
        "            except (IOError, SyntaxError) as e:\n",
        "                print(\"File rusak:\", file_path)\n",
        "\n",
        "check_images(folder_path)\n"
      ]
    }
  ],
  "metadata": {
    "accelerator": "TPU",
    "colab": {
      "provenance": [],
      "include_colab_link": true
    },
    "kernelspec": {
      "display_name": "Python 3",
      "name": "python3"
    },
    "language_info": {
      "name": "python"
    }
  },
  "nbformat": 4,
  "nbformat_minor": 0
}
